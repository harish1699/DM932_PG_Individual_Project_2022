{
  "nbformat": 4,
  "nbformat_minor": 0,
  "metadata": {
    "colab": {
      "provenance": []
    },
    "kernelspec": {
      "name": "python3",
      "display_name": "Python 3"
    },
    "accelerator": "GPU"
  },
  "cells": [
    {
      "cell_type": "code",
      "metadata": {
        "id": "_GY3HgVB7T8D"
      },
      "source": [
        "import pandas as pd\n",
        "import matplotlib as mpl\n",
        "import matplotlib.pyplot as plt\n",
        "from sklearn.model_selection import train_test_split\n",
        "from keras.preprocessing.sequence import TimeseriesGenerator\n",
        "from sklearn.preprocessing import MinMaxScaler, StandardScaler\n",
        "import tensorflow as tf\n",
        "\n",
        "mpl.rcParams['figure.figsize'] = (10, 8)\n",
        "mpl.rcParams['axes.grid'] = False"
      ],
      "execution_count": null,
      "outputs": []
    },
    {
      "cell_type": "code",
      "metadata": {
        "id": "lmNbWyCJ7n0a"
      },
      "source": [
        "df = pd.read_csv('energydata_complete.csv')"
      ],
      "execution_count": null,
      "outputs": []
    },
    {
      "cell_type": "code",
      "metadata": {
        "id": "4MZJsxPq76CN",
        "outputId": "d260a419-646d-407b-86ba-c9ada9fdbc71",
        "colab": {
          "base_uri": "https://localhost:8080/",
          "height": 834
        }
      },
      "source": [
        "df"
      ],
      "execution_count": null,
      "outputs": [
        {
          "output_type": "execute_result",
          "data": {
            "text/plain": [
              "                      date  Appliances  lights         T1       RH_1  \\\n",
              "0      2016-01-11 17:00:00          60      30  19.890000  47.596667   \n",
              "1      2016-01-11 17:10:00          60      30  19.890000  46.693333   \n",
              "2      2016-01-11 17:20:00          50      30  19.890000  46.300000   \n",
              "3      2016-01-11 17:30:00          50      40  19.890000  46.066667   \n",
              "4      2016-01-11 17:40:00          60      40  19.890000  46.333333   \n",
              "...                    ...         ...     ...        ...        ...   \n",
              "19730  2016-05-27 17:20:00         100       0  25.566667  46.560000   \n",
              "19731  2016-05-27 17:30:00          90       0  25.500000  46.500000   \n",
              "19732  2016-05-27 17:40:00         270      10  25.500000  46.596667   \n",
              "19733  2016-05-27 17:50:00         420      10  25.500000  46.990000   \n",
              "19734  2016-05-27 18:00:00         430      10  25.500000  46.600000   \n",
              "\n",
              "              T2       RH_2         T3       RH_3         T4  ...         T9  \\\n",
              "0      19.200000  44.790000  19.790000  44.730000  19.000000  ...  17.033333   \n",
              "1      19.200000  44.722500  19.790000  44.790000  19.000000  ...  17.066667   \n",
              "2      19.200000  44.626667  19.790000  44.933333  18.926667  ...  17.000000   \n",
              "3      19.200000  44.590000  19.790000  45.000000  18.890000  ...  17.000000   \n",
              "4      19.200000  44.530000  19.790000  45.000000  18.890000  ...  17.000000   \n",
              "...          ...        ...        ...        ...        ...  ...        ...   \n",
              "19730  25.890000  42.025714  27.200000  41.163333  24.700000  ...  23.200000   \n",
              "19731  25.754000  42.080000  27.133333  41.223333  24.700000  ...  23.200000   \n",
              "19732  25.628571  42.768571  27.050000  41.690000  24.700000  ...  23.200000   \n",
              "19733  25.414000  43.036000  26.890000  41.290000  24.700000  ...  23.200000   \n",
              "19734  25.264286  42.971429  26.823333  41.156667  24.700000  ...  23.200000   \n",
              "\n",
              "          RH_9      T_out  Press_mm_hg     RH_out  Windspeed  Visibility  \\\n",
              "0      45.5300   6.600000        733.5  92.000000   7.000000   63.000000   \n",
              "1      45.5600   6.483333        733.6  92.000000   6.666667   59.166667   \n",
              "2      45.5000   6.366667        733.7  92.000000   6.333333   55.333333   \n",
              "3      45.4000   6.250000        733.8  92.000000   6.000000   51.500000   \n",
              "4      45.4000   6.133333        733.9  92.000000   5.666667   47.666667   \n",
              "...        ...        ...          ...        ...        ...         ...   \n",
              "19730  46.7900  22.733333        755.2  55.666667   3.333333   23.666667   \n",
              "19731  46.7900  22.600000        755.2  56.000000   3.500000   24.500000   \n",
              "19732  46.7900  22.466667        755.2  56.333333   3.666667   25.333333   \n",
              "19733  46.8175  22.333333        755.2  56.666667   3.833333   26.166667   \n",
              "19734  46.8450  22.200000        755.2  57.000000   4.000000   27.000000   \n",
              "\n",
              "       Tdewpoint        rv1        rv2  \n",
              "0       5.300000  13.275433  13.275433  \n",
              "1       5.200000  18.606195  18.606195  \n",
              "2       5.100000  28.642668  28.642668  \n",
              "3       5.000000  45.410389  45.410389  \n",
              "4       4.900000  10.084097  10.084097  \n",
              "...          ...        ...        ...  \n",
              "19730  13.333333  43.096812  43.096812  \n",
              "19731  13.300000  49.282940  49.282940  \n",
              "19732  13.266667  29.199117  29.199117  \n",
              "19733  13.233333   6.322784   6.322784  \n",
              "19734  13.200000  34.118851  34.118851  \n",
              "\n",
              "[19735 rows x 29 columns]"
            ],
            "text/html": [
              "\n",
              "  <div id=\"df-5345643a-ecbf-4b82-a735-8f28ab310710\">\n",
              "    <div class=\"colab-df-container\">\n",
              "      <div>\n",
              "<style scoped>\n",
              "    .dataframe tbody tr th:only-of-type {\n",
              "        vertical-align: middle;\n",
              "    }\n",
              "\n",
              "    .dataframe tbody tr th {\n",
              "        vertical-align: top;\n",
              "    }\n",
              "\n",
              "    .dataframe thead th {\n",
              "        text-align: right;\n",
              "    }\n",
              "</style>\n",
              "<table border=\"1\" class=\"dataframe\">\n",
              "  <thead>\n",
              "    <tr style=\"text-align: right;\">\n",
              "      <th></th>\n",
              "      <th>date</th>\n",
              "      <th>Appliances</th>\n",
              "      <th>lights</th>\n",
              "      <th>T1</th>\n",
              "      <th>RH_1</th>\n",
              "      <th>T2</th>\n",
              "      <th>RH_2</th>\n",
              "      <th>T3</th>\n",
              "      <th>RH_3</th>\n",
              "      <th>T4</th>\n",
              "      <th>...</th>\n",
              "      <th>T9</th>\n",
              "      <th>RH_9</th>\n",
              "      <th>T_out</th>\n",
              "      <th>Press_mm_hg</th>\n",
              "      <th>RH_out</th>\n",
              "      <th>Windspeed</th>\n",
              "      <th>Visibility</th>\n",
              "      <th>Tdewpoint</th>\n",
              "      <th>rv1</th>\n",
              "      <th>rv2</th>\n",
              "    </tr>\n",
              "  </thead>\n",
              "  <tbody>\n",
              "    <tr>\n",
              "      <th>0</th>\n",
              "      <td>2016-01-11 17:00:00</td>\n",
              "      <td>60</td>\n",
              "      <td>30</td>\n",
              "      <td>19.890000</td>\n",
              "      <td>47.596667</td>\n",
              "      <td>19.200000</td>\n",
              "      <td>44.790000</td>\n",
              "      <td>19.790000</td>\n",
              "      <td>44.730000</td>\n",
              "      <td>19.000000</td>\n",
              "      <td>...</td>\n",
              "      <td>17.033333</td>\n",
              "      <td>45.5300</td>\n",
              "      <td>6.600000</td>\n",
              "      <td>733.5</td>\n",
              "      <td>92.000000</td>\n",
              "      <td>7.000000</td>\n",
              "      <td>63.000000</td>\n",
              "      <td>5.300000</td>\n",
              "      <td>13.275433</td>\n",
              "      <td>13.275433</td>\n",
              "    </tr>\n",
              "    <tr>\n",
              "      <th>1</th>\n",
              "      <td>2016-01-11 17:10:00</td>\n",
              "      <td>60</td>\n",
              "      <td>30</td>\n",
              "      <td>19.890000</td>\n",
              "      <td>46.693333</td>\n",
              "      <td>19.200000</td>\n",
              "      <td>44.722500</td>\n",
              "      <td>19.790000</td>\n",
              "      <td>44.790000</td>\n",
              "      <td>19.000000</td>\n",
              "      <td>...</td>\n",
              "      <td>17.066667</td>\n",
              "      <td>45.5600</td>\n",
              "      <td>6.483333</td>\n",
              "      <td>733.6</td>\n",
              "      <td>92.000000</td>\n",
              "      <td>6.666667</td>\n",
              "      <td>59.166667</td>\n",
              "      <td>5.200000</td>\n",
              "      <td>18.606195</td>\n",
              "      <td>18.606195</td>\n",
              "    </tr>\n",
              "    <tr>\n",
              "      <th>2</th>\n",
              "      <td>2016-01-11 17:20:00</td>\n",
              "      <td>50</td>\n",
              "      <td>30</td>\n",
              "      <td>19.890000</td>\n",
              "      <td>46.300000</td>\n",
              "      <td>19.200000</td>\n",
              "      <td>44.626667</td>\n",
              "      <td>19.790000</td>\n",
              "      <td>44.933333</td>\n",
              "      <td>18.926667</td>\n",
              "      <td>...</td>\n",
              "      <td>17.000000</td>\n",
              "      <td>45.5000</td>\n",
              "      <td>6.366667</td>\n",
              "      <td>733.7</td>\n",
              "      <td>92.000000</td>\n",
              "      <td>6.333333</td>\n",
              "      <td>55.333333</td>\n",
              "      <td>5.100000</td>\n",
              "      <td>28.642668</td>\n",
              "      <td>28.642668</td>\n",
              "    </tr>\n",
              "    <tr>\n",
              "      <th>3</th>\n",
              "      <td>2016-01-11 17:30:00</td>\n",
              "      <td>50</td>\n",
              "      <td>40</td>\n",
              "      <td>19.890000</td>\n",
              "      <td>46.066667</td>\n",
              "      <td>19.200000</td>\n",
              "      <td>44.590000</td>\n",
              "      <td>19.790000</td>\n",
              "      <td>45.000000</td>\n",
              "      <td>18.890000</td>\n",
              "      <td>...</td>\n",
              "      <td>17.000000</td>\n",
              "      <td>45.4000</td>\n",
              "      <td>6.250000</td>\n",
              "      <td>733.8</td>\n",
              "      <td>92.000000</td>\n",
              "      <td>6.000000</td>\n",
              "      <td>51.500000</td>\n",
              "      <td>5.000000</td>\n",
              "      <td>45.410389</td>\n",
              "      <td>45.410389</td>\n",
              "    </tr>\n",
              "    <tr>\n",
              "      <th>4</th>\n",
              "      <td>2016-01-11 17:40:00</td>\n",
              "      <td>60</td>\n",
              "      <td>40</td>\n",
              "      <td>19.890000</td>\n",
              "      <td>46.333333</td>\n",
              "      <td>19.200000</td>\n",
              "      <td>44.530000</td>\n",
              "      <td>19.790000</td>\n",
              "      <td>45.000000</td>\n",
              "      <td>18.890000</td>\n",
              "      <td>...</td>\n",
              "      <td>17.000000</td>\n",
              "      <td>45.4000</td>\n",
              "      <td>6.133333</td>\n",
              "      <td>733.9</td>\n",
              "      <td>92.000000</td>\n",
              "      <td>5.666667</td>\n",
              "      <td>47.666667</td>\n",
              "      <td>4.900000</td>\n",
              "      <td>10.084097</td>\n",
              "      <td>10.084097</td>\n",
              "    </tr>\n",
              "    <tr>\n",
              "      <th>...</th>\n",
              "      <td>...</td>\n",
              "      <td>...</td>\n",
              "      <td>...</td>\n",
              "      <td>...</td>\n",
              "      <td>...</td>\n",
              "      <td>...</td>\n",
              "      <td>...</td>\n",
              "      <td>...</td>\n",
              "      <td>...</td>\n",
              "      <td>...</td>\n",
              "      <td>...</td>\n",
              "      <td>...</td>\n",
              "      <td>...</td>\n",
              "      <td>...</td>\n",
              "      <td>...</td>\n",
              "      <td>...</td>\n",
              "      <td>...</td>\n",
              "      <td>...</td>\n",
              "      <td>...</td>\n",
              "      <td>...</td>\n",
              "      <td>...</td>\n",
              "    </tr>\n",
              "    <tr>\n",
              "      <th>19730</th>\n",
              "      <td>2016-05-27 17:20:00</td>\n",
              "      <td>100</td>\n",
              "      <td>0</td>\n",
              "      <td>25.566667</td>\n",
              "      <td>46.560000</td>\n",
              "      <td>25.890000</td>\n",
              "      <td>42.025714</td>\n",
              "      <td>27.200000</td>\n",
              "      <td>41.163333</td>\n",
              "      <td>24.700000</td>\n",
              "      <td>...</td>\n",
              "      <td>23.200000</td>\n",
              "      <td>46.7900</td>\n",
              "      <td>22.733333</td>\n",
              "      <td>755.2</td>\n",
              "      <td>55.666667</td>\n",
              "      <td>3.333333</td>\n",
              "      <td>23.666667</td>\n",
              "      <td>13.333333</td>\n",
              "      <td>43.096812</td>\n",
              "      <td>43.096812</td>\n",
              "    </tr>\n",
              "    <tr>\n",
              "      <th>19731</th>\n",
              "      <td>2016-05-27 17:30:00</td>\n",
              "      <td>90</td>\n",
              "      <td>0</td>\n",
              "      <td>25.500000</td>\n",
              "      <td>46.500000</td>\n",
              "      <td>25.754000</td>\n",
              "      <td>42.080000</td>\n",
              "      <td>27.133333</td>\n",
              "      <td>41.223333</td>\n",
              "      <td>24.700000</td>\n",
              "      <td>...</td>\n",
              "      <td>23.200000</td>\n",
              "      <td>46.7900</td>\n",
              "      <td>22.600000</td>\n",
              "      <td>755.2</td>\n",
              "      <td>56.000000</td>\n",
              "      <td>3.500000</td>\n",
              "      <td>24.500000</td>\n",
              "      <td>13.300000</td>\n",
              "      <td>49.282940</td>\n",
              "      <td>49.282940</td>\n",
              "    </tr>\n",
              "    <tr>\n",
              "      <th>19732</th>\n",
              "      <td>2016-05-27 17:40:00</td>\n",
              "      <td>270</td>\n",
              "      <td>10</td>\n",
              "      <td>25.500000</td>\n",
              "      <td>46.596667</td>\n",
              "      <td>25.628571</td>\n",
              "      <td>42.768571</td>\n",
              "      <td>27.050000</td>\n",
              "      <td>41.690000</td>\n",
              "      <td>24.700000</td>\n",
              "      <td>...</td>\n",
              "      <td>23.200000</td>\n",
              "      <td>46.7900</td>\n",
              "      <td>22.466667</td>\n",
              "      <td>755.2</td>\n",
              "      <td>56.333333</td>\n",
              "      <td>3.666667</td>\n",
              "      <td>25.333333</td>\n",
              "      <td>13.266667</td>\n",
              "      <td>29.199117</td>\n",
              "      <td>29.199117</td>\n",
              "    </tr>\n",
              "    <tr>\n",
              "      <th>19733</th>\n",
              "      <td>2016-05-27 17:50:00</td>\n",
              "      <td>420</td>\n",
              "      <td>10</td>\n",
              "      <td>25.500000</td>\n",
              "      <td>46.990000</td>\n",
              "      <td>25.414000</td>\n",
              "      <td>43.036000</td>\n",
              "      <td>26.890000</td>\n",
              "      <td>41.290000</td>\n",
              "      <td>24.700000</td>\n",
              "      <td>...</td>\n",
              "      <td>23.200000</td>\n",
              "      <td>46.8175</td>\n",
              "      <td>22.333333</td>\n",
              "      <td>755.2</td>\n",
              "      <td>56.666667</td>\n",
              "      <td>3.833333</td>\n",
              "      <td>26.166667</td>\n",
              "      <td>13.233333</td>\n",
              "      <td>6.322784</td>\n",
              "      <td>6.322784</td>\n",
              "    </tr>\n",
              "    <tr>\n",
              "      <th>19734</th>\n",
              "      <td>2016-05-27 18:00:00</td>\n",
              "      <td>430</td>\n",
              "      <td>10</td>\n",
              "      <td>25.500000</td>\n",
              "      <td>46.600000</td>\n",
              "      <td>25.264286</td>\n",
              "      <td>42.971429</td>\n",
              "      <td>26.823333</td>\n",
              "      <td>41.156667</td>\n",
              "      <td>24.700000</td>\n",
              "      <td>...</td>\n",
              "      <td>23.200000</td>\n",
              "      <td>46.8450</td>\n",
              "      <td>22.200000</td>\n",
              "      <td>755.2</td>\n",
              "      <td>57.000000</td>\n",
              "      <td>4.000000</td>\n",
              "      <td>27.000000</td>\n",
              "      <td>13.200000</td>\n",
              "      <td>34.118851</td>\n",
              "      <td>34.118851</td>\n",
              "    </tr>\n",
              "  </tbody>\n",
              "</table>\n",
              "<p>19735 rows × 29 columns</p>\n",
              "</div>\n",
              "      <button class=\"colab-df-convert\" onclick=\"convertToInteractive('df-5345643a-ecbf-4b82-a735-8f28ab310710')\"\n",
              "              title=\"Convert this dataframe to an interactive table.\"\n",
              "              style=\"display:none;\">\n",
              "        \n",
              "  <svg xmlns=\"http://www.w3.org/2000/svg\" height=\"24px\"viewBox=\"0 0 24 24\"\n",
              "       width=\"24px\">\n",
              "    <path d=\"M0 0h24v24H0V0z\" fill=\"none\"/>\n",
              "    <path d=\"M18.56 5.44l.94 2.06.94-2.06 2.06-.94-2.06-.94-.94-2.06-.94 2.06-2.06.94zm-11 1L8.5 8.5l.94-2.06 2.06-.94-2.06-.94L8.5 2.5l-.94 2.06-2.06.94zm10 10l.94 2.06.94-2.06 2.06-.94-2.06-.94-.94-2.06-.94 2.06-2.06.94z\"/><path d=\"M17.41 7.96l-1.37-1.37c-.4-.4-.92-.59-1.43-.59-.52 0-1.04.2-1.43.59L10.3 9.45l-7.72 7.72c-.78.78-.78 2.05 0 2.83L4 21.41c.39.39.9.59 1.41.59.51 0 1.02-.2 1.41-.59l7.78-7.78 2.81-2.81c.8-.78.8-2.07 0-2.86zM5.41 20L4 18.59l7.72-7.72 1.47 1.35L5.41 20z\"/>\n",
              "  </svg>\n",
              "      </button>\n",
              "      \n",
              "  <style>\n",
              "    .colab-df-container {\n",
              "      display:flex;\n",
              "      flex-wrap:wrap;\n",
              "      gap: 12px;\n",
              "    }\n",
              "\n",
              "    .colab-df-convert {\n",
              "      background-color: #E8F0FE;\n",
              "      border: none;\n",
              "      border-radius: 50%;\n",
              "      cursor: pointer;\n",
              "      display: none;\n",
              "      fill: #1967D2;\n",
              "      height: 32px;\n",
              "      padding: 0 0 0 0;\n",
              "      width: 32px;\n",
              "    }\n",
              "\n",
              "    .colab-df-convert:hover {\n",
              "      background-color: #E2EBFA;\n",
              "      box-shadow: 0px 1px 2px rgba(60, 64, 67, 0.3), 0px 1px 3px 1px rgba(60, 64, 67, 0.15);\n",
              "      fill: #174EA6;\n",
              "    }\n",
              "\n",
              "    [theme=dark] .colab-df-convert {\n",
              "      background-color: #3B4455;\n",
              "      fill: #D2E3FC;\n",
              "    }\n",
              "\n",
              "    [theme=dark] .colab-df-convert:hover {\n",
              "      background-color: #434B5C;\n",
              "      box-shadow: 0px 1px 3px 1px rgba(0, 0, 0, 0.15);\n",
              "      filter: drop-shadow(0px 1px 2px rgba(0, 0, 0, 0.3));\n",
              "      fill: #FFFFFF;\n",
              "    }\n",
              "  </style>\n",
              "\n",
              "      <script>\n",
              "        const buttonEl =\n",
              "          document.querySelector('#df-5345643a-ecbf-4b82-a735-8f28ab310710 button.colab-df-convert');\n",
              "        buttonEl.style.display =\n",
              "          google.colab.kernel.accessAllowed ? 'block' : 'none';\n",
              "\n",
              "        async function convertToInteractive(key) {\n",
              "          const element = document.querySelector('#df-5345643a-ecbf-4b82-a735-8f28ab310710');\n",
              "          const dataTable =\n",
              "            await google.colab.kernel.invokeFunction('convertToInteractive',\n",
              "                                                     [key], {});\n",
              "          if (!dataTable) return;\n",
              "\n",
              "          const docLinkHtml = 'Like what you see? Visit the ' +\n",
              "            '<a target=\"_blank\" href=https://colab.research.google.com/notebooks/data_table.ipynb>data table notebook</a>'\n",
              "            + ' to learn more about interactive tables.';\n",
              "          element.innerHTML = '';\n",
              "          dataTable['output_type'] = 'display_data';\n",
              "          await google.colab.output.renderOutput(dataTable, element);\n",
              "          const docLink = document.createElement('div');\n",
              "          docLink.innerHTML = docLinkHtml;\n",
              "          element.appendChild(docLink);\n",
              "        }\n",
              "      </script>\n",
              "    </div>\n",
              "  </div>\n",
              "  "
            ]
          },
          "metadata": {},
          "execution_count": 3
        }
      ]
    },
    {
      "cell_type": "markdown",
      "metadata": {
        "id": "3xYLENkY8Pdv"
      },
      "source": [
        "\n",
        "\n",
        "```\n",
        "Attribute Information:\n",
        "\n",
        "date time year-month-day hour:minute:second\n",
        "Appliances, energy use in Wh\n",
        "lights, energy use of light fixtures in the house in Wh\n",
        "T1, Temperature in kitchen area, in Celsius\n",
        "RH_1, Humidity in kitchen area, in %\n",
        "T2, Temperature in living room area, in Celsius\n",
        "RH_2, Humidity in living room area, in %\n",
        "T3, Temperature in laundry room area\n",
        "RH_3, Humidity in laundry room area, in %\n",
        "T4, Temperature in office room, in Celsius\n",
        "RH_4, Humidity in office room, in %\n",
        "T5, Temperature in bathroom, in Celsius\n",
        "RH_5, Humidity in bathroom, in %\n",
        "T6, Temperature outside the building (north side), in Celsius\n",
        "RH_6, Humidity outside the building (north side), in %\n",
        "T7, Temperature in ironing room , in Celsius\n",
        "RH_7, Humidity in ironing room, in %\n",
        "T8, Temperature in teenager room 2, in Celsius\n",
        "RH_8, Humidity in teenager room 2, in %\n",
        "T9, Temperature in parents room, in Celsius\n",
        "RH_9, Humidity in parents room, in %\n",
        "To, Temperature outside (from Chievres weather station), in Celsius\n",
        "Pressure (from Chievres weather station), in mm Hg\n",
        "RH_out, Humidity outside (from Chievres weather station), in %\n",
        "Wind speed (from Chievres weather station), in m/s\n",
        "Visibility (from Chievres weather station), in km\n",
        "Tdewpoint (from Chievres weather station), Â°C\n",
        "rv1, Random variable 1, nondimensional\n",
        "rv2, Random variable 2, nondimensional\n",
        "\n",
        "```\n",
        "\n"
      ]
    },
    {
      "cell_type": "code",
      "metadata": {
        "id": "e_gfpzvA0cJa",
        "outputId": "d99cea2d-ea8d-4033-dae2-9e236a3c7e06",
        "colab": {
          "base_uri": "https://localhost:8080/"
        }
      },
      "source": [
        "df.info()"
      ],
      "execution_count": null,
      "outputs": [
        {
          "output_type": "stream",
          "name": "stdout",
          "text": [
            "<class 'pandas.core.frame.DataFrame'>\n",
            "RangeIndex: 19735 entries, 0 to 19734\n",
            "Data columns (total 29 columns):\n",
            " #   Column       Non-Null Count  Dtype  \n",
            "---  ------       --------------  -----  \n",
            " 0   date         19735 non-null  object \n",
            " 1   Appliances   19735 non-null  int64  \n",
            " 2   lights       19735 non-null  int64  \n",
            " 3   T1           19735 non-null  float64\n",
            " 4   RH_1         19735 non-null  float64\n",
            " 5   T2           19735 non-null  float64\n",
            " 6   RH_2         19735 non-null  float64\n",
            " 7   T3           19735 non-null  float64\n",
            " 8   RH_3         19735 non-null  float64\n",
            " 9   T4           19735 non-null  float64\n",
            " 10  RH_4         19735 non-null  float64\n",
            " 11  T5           19735 non-null  float64\n",
            " 12  RH_5         19735 non-null  float64\n",
            " 13  T6           19735 non-null  float64\n",
            " 14  RH_6         19735 non-null  float64\n",
            " 15  T7           19735 non-null  float64\n",
            " 16  RH_7         19735 non-null  float64\n",
            " 17  T8           19735 non-null  float64\n",
            " 18  RH_8         19735 non-null  float64\n",
            " 19  T9           19735 non-null  float64\n",
            " 20  RH_9         19735 non-null  float64\n",
            " 21  T_out        19735 non-null  float64\n",
            " 22  Press_mm_hg  19735 non-null  float64\n",
            " 23  RH_out       19735 non-null  float64\n",
            " 24  Windspeed    19735 non-null  float64\n",
            " 25  Visibility   19735 non-null  float64\n",
            " 26  Tdewpoint    19735 non-null  float64\n",
            " 27  rv1          19735 non-null  float64\n",
            " 28  rv2          19735 non-null  float64\n",
            "dtypes: float64(26), int64(2), object(1)\n",
            "memory usage: 4.4+ MB\n"
          ]
        }
      ]
    },
    {
      "cell_type": "code",
      "metadata": {
        "id": "DX4Wjmy08aWn"
      },
      "source": [
        "df['date'] = pd.to_datetime(df['date'], infer_datetime_format=True)"
      ],
      "execution_count": null,
      "outputs": []
    },
    {
      "cell_type": "code",
      "metadata": {
        "id": "6klgmpWq0TJZ",
        "outputId": "f9e8b5e3-5df4-4db4-9277-9f5d103f88ae",
        "colab": {
          "base_uri": "https://localhost:8080/",
          "height": 619
        }
      },
      "source": [
        "df.set_index('date')[['Appliances', 'lights','T_out', 'RH_1', 'Visibility']].plot(subplots=True)"
      ],
      "execution_count": null,
      "outputs": [
        {
          "output_type": "execute_result",
          "data": {
            "text/plain": [
              "array([<matplotlib.axes._subplots.AxesSubplot object at 0x7fc846ff2a90>,\n",
              "       <matplotlib.axes._subplots.AxesSubplot object at 0x7fc846f5e150>,\n",
              "       <matplotlib.axes._subplots.AxesSubplot object at 0x7fc846f9a490>,\n",
              "       <matplotlib.axes._subplots.AxesSubplot object at 0x7fc846f527d0>,\n",
              "       <matplotlib.axes._subplots.AxesSubplot object at 0x7fc846f0bb10>],\n",
              "      dtype=object)"
            ]
          },
          "metadata": {},
          "execution_count": 6
        },
        {
          "output_type": "display_data",
          "data": {
            "text/plain": [
              "<Figure size 720x576 with 5 Axes>"
            ],
            "image/png": "[encoded data removed]"
          },
          "metadata": {
            "needs_background": "light"
          }
        }
      ]
    },
    {
      "cell_type": "code",
      "metadata": {
        "id": "03LtErv2z8fI"
      },
      "source": [
        "df_input=df[['Appliances','T_out', 'RH_1', 'Visibility']]"
      ],
      "execution_count": null,
      "outputs": []
    },
    {
      "cell_type": "code",
      "metadata": {
        "id": "ZoZI-S5t760x",
        "outputId": "6aa99d78-41c2-4121-9a5a-84563aab15b6",
        "colab": {
          "base_uri": "https://localhost:8080/",
          "height": 423
        }
      },
      "source": [
        "df_input"
      ],
      "execution_count": null,
      "outputs": [
        {
          "output_type": "execute_result",
          "data": {
            "text/plain": [
              "       Appliances      T_out       RH_1  Visibility\n",
              "0              60   6.600000  47.596667   63.000000\n",
              "1              60   6.483333  46.693333   59.166667\n",
              "2              50   6.366667  46.300000   55.333333\n",
              "3              50   6.250000  46.066667   51.500000\n",
              "4              60   6.133333  46.333333   47.666667\n",
              "...           ...        ...        ...         ...\n",
              "19730         100  22.733333  46.560000   23.666667\n",
              "19731          90  22.600000  46.500000   24.500000\n",
              "19732         270  22.466667  46.596667   25.333333\n",
              "19733         420  22.333333  46.990000   26.166667\n",
              "19734         430  22.200000  46.600000   27.000000\n",
              "\n",
              "[19735 rows x 4 columns]"
            ],
            "text/html": [
              "\n",
              "  <div id=\"df-2ec07e08-cfd5-4857-9730-f6cc973d807f\">\n",
              "    <div class=\"colab-df-container\">\n",
              "      <div>\n",
              "<style scoped>\n",
              "    .dataframe tbody tr th:only-of-type {\n",
              "        vertical-align: middle;\n",
              "    }\n",
              "\n",
              "    .dataframe tbody tr th {\n",
              "        vertical-align: top;\n",
              "    }\n",
              "\n",
              "    .dataframe thead th {\n",
              "        text-align: right;\n",
              "    }\n",
              "</style>\n",
              "<table border=\"1\" class=\"dataframe\">\n",
              "  <thead>\n",
              "    <tr style=\"text-align: right;\">\n",
              "      <th></th>\n",
              "      <th>Appliances</th>\n",
              "      <th>T_out</th>\n",
              "      <th>RH_1</th>\n",
              "      <th>Visibility</th>\n",
              "    </tr>\n",
              "  </thead>\n",
              "  <tbody>\n",
              "    <tr>\n",
              "      <th>0</th>\n",
              "      <td>60</td>\n",
              "      <td>6.600000</td>\n",
              "      <td>47.596667</td>\n",
              "      <td>63.000000</td>\n",
              "    </tr>\n",
              "    <tr>\n",
              "      <th>1</th>\n",
              "      <td>60</td>\n",
              "      <td>6.483333</td>\n",
              "      <td>46.693333</td>\n",
              "      <td>59.166667</td>\n",
              "    </tr>\n",
              "    <tr>\n",
              "      <th>2</th>\n",
              "      <td>50</td>\n",
              "      <td>6.366667</td>\n",
              "      <td>46.300000</td>\n",
              "      <td>55.333333</td>\n",
              "    </tr>\n",
              "    <tr>\n",
              "      <th>3</th>\n",
              "      <td>50</td>\n",
              "      <td>6.250000</td>\n",
              "      <td>46.066667</td>\n",
              "      <td>51.500000</td>\n",
              "    </tr>\n",
              "    <tr>\n",
              "      <th>4</th>\n",
              "      <td>60</td>\n",
              "      <td>6.133333</td>\n",
              "      <td>46.333333</td>\n",
              "      <td>47.666667</td>\n",
              "    </tr>\n",
              "    <tr>\n",
              "      <th>...</th>\n",
              "      <td>...</td>\n",
              "      <td>...</td>\n",
              "      <td>...</td>\n",
              "      <td>...</td>\n",
              "    </tr>\n",
              "    <tr>\n",
              "      <th>19730</th>\n",
              "      <td>100</td>\n",
              "      <td>22.733333</td>\n",
              "      <td>46.560000</td>\n",
              "      <td>23.666667</td>\n",
              "    </tr>\n",
              "    <tr>\n",
              "      <th>19731</th>\n",
              "      <td>90</td>\n",
              "      <td>22.600000</td>\n",
              "      <td>46.500000</td>\n",
              "      <td>24.500000</td>\n",
              "    </tr>\n",
              "    <tr>\n",
              "      <th>19732</th>\n",
              "      <td>270</td>\n",
              "      <td>22.466667</td>\n",
              "      <td>46.596667</td>\n",
              "      <td>25.333333</td>\n",
              "    </tr>\n",
              "    <tr>\n",
              "      <th>19733</th>\n",
              "      <td>420</td>\n",
              "      <td>22.333333</td>\n",
              "      <td>46.990000</td>\n",
              "      <td>26.166667</td>\n",
              "    </tr>\n",
              "    <tr>\n",
              "      <th>19734</th>\n",
              "      <td>430</td>\n",
              "      <td>22.200000</td>\n",
              "      <td>46.600000</td>\n",
              "      <td>27.000000</td>\n",
              "    </tr>\n",
              "  </tbody>\n",
              "</table>\n",
              "<p>19735 rows × 4 columns</p>\n",
              "</div>\n",
              "      <button class=\"colab-df-convert\" onclick=\"convertToInteractive('df-2ec07e08-cfd5-4857-9730-f6cc973d807f')\"\n",
              "              title=\"Convert this dataframe to an interactive table.\"\n",
              "              style=\"display:none;\">\n",
              "        \n",
              "  <svg xmlns=\"http://www.w3.org/2000/svg\" height=\"24px\"viewBox=\"0 0 24 24\"\n",
              "       width=\"24px\">\n",
              "    <path d=\"M0 0h24v24H0V0z\" fill=\"none\"/>\n",
              "    <path d=\"M18.56 5.44l.94 2.06.94-2.06 2.06-.94-2.06-.94-.94-2.06-.94 2.06-2.06.94zm-11 1L8.5 8.5l.94-2.06 2.06-.94-2.06-.94L8.5 2.5l-.94 2.06-2.06.94zm10 10l.94 2.06.94-2.06 2.06-.94-2.06-.94-.94-2.06-.94 2.06-2.06.94z\"/><path d=\"M17.41 7.96l-1.37-1.37c-.4-.4-.92-.59-1.43-.59-.52 0-1.04.2-1.43.59L10.3 9.45l-7.72 7.72c-.78.78-.78 2.05 0 2.83L4 21.41c.39.39.9.59 1.41.59.51 0 1.02-.2 1.41-.59l7.78-7.78 2.81-2.81c.8-.78.8-2.07 0-2.86zM5.41 20L4 18.59l7.72-7.72 1.47 1.35L5.41 20z\"/>\n",
              "  </svg>\n",
              "      </button>\n",
              "      \n",
              "  <style>\n",
              "    .colab-df-container {\n",
              "      display:flex;\n",
              "      flex-wrap:wrap;\n",
              "      gap: 12px;\n",
              "    }\n",
              "\n",
              "    .colab-df-convert {\n",
              "      background-color: #E8F0FE;\n",
              "      border: none;\n",
              "      border-radius: 50%;\n",
              "      cursor: pointer;\n",
              "      display: none;\n",
              "      fill: #1967D2;\n",
              "      height: 32px;\n",
              "      padding: 0 0 0 0;\n",
              "      width: 32px;\n",
              "    }\n",
              "\n",
              "    .colab-df-convert:hover {\n",
              "      background-color: #E2EBFA;\n",
              "      box-shadow: 0px 1px 2px rgba(60, 64, 67, 0.3), 0px 1px 3px 1px rgba(60, 64, 67, 0.15);\n",
              "      fill: #174EA6;\n",
              "    }\n",
              "\n",
              "    [theme=dark] .colab-df-convert {\n",
              "      background-color: #3B4455;\n",
              "      fill: #D2E3FC;\n",
              "    }\n",
              "\n",
              "    [theme=dark] .colab-df-convert:hover {\n",
              "      background-color: #434B5C;\n",
              "      box-shadow: 0px 1px 3px 1px rgba(0, 0, 0, 0.15);\n",
              "      filter: drop-shadow(0px 1px 2px rgba(0, 0, 0, 0.3));\n",
              "      fill: #FFFFFF;\n",
              "    }\n",
              "  </style>\n",
              "\n",
              "      <script>\n",
              "        const buttonEl =\n",
              "          document.querySelector('#df-2ec07e08-cfd5-4857-9730-f6cc973d807f button.colab-df-convert');\n",
              "        buttonEl.style.display =\n",
              "          google.colab.kernel.accessAllowed ? 'block' : 'none';\n",
              "\n",
              "        async function convertToInteractive(key) {\n",
              "          const element = document.querySelector('#df-2ec07e08-cfd5-4857-9730-f6cc973d807f');\n",
              "          const dataTable =\n",
              "            await google.colab.kernel.invokeFunction('convertToInteractive',\n",
              "                                                     [key], {});\n",
              "          if (!dataTable) return;\n",
              "\n",
              "          const docLinkHtml = 'Like what you see? Visit the ' +\n",
              "            '<a target=\"_blank\" href=https://colab.research.google.com/notebooks/data_table.ipynb>data table notebook</a>'\n",
              "            + ' to learn more about interactive tables.';\n",
              "          element.innerHTML = '';\n",
              "          dataTable['output_type'] = 'display_data';\n",
              "          await google.colab.output.renderOutput(dataTable, element);\n",
              "          const docLink = document.createElement('div');\n",
              "          docLink.innerHTML = docLinkHtml;\n",
              "          element.appendChild(docLink);\n",
              "        }\n",
              "      </script>\n",
              "    </div>\n",
              "  </div>\n",
              "  "
            ]
          },
          "metadata": {},
          "execution_count": 8
        }
      ]
    },
    {
      "cell_type": "code",
      "metadata": {
        "id": "s3QqtUCsyKLa",
        "outputId": "9916316f-d533-4c1b-bab2-69d831607041",
        "colab": {
          "base_uri": "https://localhost:8080/",
          "height": 300
        }
      },
      "source": [
        "df_input.describe()"
      ],
      "execution_count": null,
      "outputs": [
        {
          "output_type": "execute_result",
          "data": {
            "text/plain": [
              "         Appliances         T_out          RH_1    Visibility\n",
              "count  19735.000000  19735.000000  19735.000000  19735.000000\n",
              "mean      97.694958      7.411665     40.259739     38.330834\n",
              "std      102.524891      5.317409      3.979299     11.794719\n",
              "min       10.000000     -5.000000     27.023333      1.000000\n",
              "25%       50.000000      3.666667     37.333333     29.000000\n",
              "50%       60.000000      6.916667     39.656667     40.000000\n",
              "75%      100.000000     10.408333     43.066667     40.000000\n",
              "max     1080.000000     26.100000     63.360000     66.000000"
            ],
            "text/html": [
              "\n",
              "  <div id=\"df-02f30956-1585-4822-99c2-dfabbc32db47\">\n",
              "    <div class=\"colab-df-container\">\n",
              "      <div>\n",
              "<style scoped>\n",
              "    .dataframe tbody tr th:only-of-type {\n",
              "        vertical-align: middle;\n",
              "    }\n",
              "\n",
              "    .dataframe tbody tr th {\n",
              "        vertical-align: top;\n",
              "    }\n",
              "\n",
              "    .dataframe thead th {\n",
              "        text-align: right;\n",
              "    }\n",
              "</style>\n",
              "<table border=\"1\" class=\"dataframe\">\n",
              "  <thead>\n",
              "    <tr style=\"text-align: right;\">\n",
              "      <th></th>\n",
              "      <th>Appliances</th>\n",
              "      <th>T_out</th>\n",
              "      <th>RH_1</th>\n",
              "      <th>Visibility</th>\n",
              "    </tr>\n",
              "  </thead>\n",
              "  <tbody>\n",
              "    <tr>\n",
              "      <th>count</th>\n",
              "      <td>19735.000000</td>\n",
              "      <td>19735.000000</td>\n",
              "      <td>19735.000000</td>\n",
              "      <td>19735.000000</td>\n",
              "    </tr>\n",
              "    <tr>\n",
              "      <th>mean</th>\n",
              "      <td>97.694958</td>\n",
              "      <td>7.411665</td>\n",
              "      <td>40.259739</td>\n",
              "      <td>38.330834</td>\n",
              "    </tr>\n",
              "    <tr>\n",
              "      <th>std</th>\n",
              "      <td>102.524891</td>\n",
              "      <td>5.317409</td>\n",
              "      <td>3.979299</td>\n",
              "      <td>11.794719</td>\n",
              "    </tr>\n",
              "    <tr>\n",
              "      <th>min</th>\n",
              "      <td>10.000000</td>\n",
              "      <td>-5.000000</td>\n",
              "      <td>27.023333</td>\n",
              "      <td>1.000000</td>\n",
              "    </tr>\n",
              "    <tr>\n",
              "      <th>25%</th>\n",
              "      <td>50.000000</td>\n",
              "      <td>3.666667</td>\n",
              "      <td>37.333333</td>\n",
              "      <td>29.000000</td>\n",
              "    </tr>\n",
              "    <tr>\n",
              "      <th>50%</th>\n",
              "      <td>60.000000</td>\n",
              "      <td>6.916667</td>\n",
              "      <td>39.656667</td>\n",
              "      <td>40.000000</td>\n",
              "    </tr>\n",
              "    <tr>\n",
              "      <th>75%</th>\n",
              "      <td>100.000000</td>\n",
              "      <td>10.408333</td>\n",
              "      <td>43.066667</td>\n",
              "      <td>40.000000</td>\n",
              "    </tr>\n",
              "    <tr>\n",
              "      <th>max</th>\n",
              "      <td>1080.000000</td>\n",
              "      <td>26.100000</td>\n",
              "      <td>63.360000</td>\n",
              "      <td>66.000000</td>\n",
              "    </tr>\n",
              "  </tbody>\n",
              "</table>\n",
              "</div>\n",
              "      <button class=\"colab-df-convert\" onclick=\"convertToInteractive('df-02f30956-1585-4822-99c2-dfabbc32db47')\"\n",
              "              title=\"Convert this dataframe to an interactive table.\"\n",
              "              style=\"display:none;\">\n",
              "        \n",
              "  <svg xmlns=\"http://www.w3.org/2000/svg\" height=\"24px\"viewBox=\"0 0 24 24\"\n",
              "       width=\"24px\">\n",
              "    <path d=\"M0 0h24v24H0V0z\" fill=\"none\"/>\n",
              "    <path d=\"M18.56 5.44l.94 2.06.94-2.06 2.06-.94-2.06-.94-.94-2.06-.94 2.06-2.06.94zm-11 1L8.5 8.5l.94-2.06 2.06-.94-2.06-.94L8.5 2.5l-.94 2.06-2.06.94zm10 10l.94 2.06.94-2.06 2.06-.94-2.06-.94-.94-2.06-.94 2.06-2.06.94z\"/><path d=\"M17.41 7.96l-1.37-1.37c-.4-.4-.92-.59-1.43-.59-.52 0-1.04.2-1.43.59L10.3 9.45l-7.72 7.72c-.78.78-.78 2.05 0 2.83L4 21.41c.39.39.9.59 1.41.59.51 0 1.02-.2 1.41-.59l7.78-7.78 2.81-2.81c.8-.78.8-2.07 0-2.86zM5.41 20L4 18.59l7.72-7.72 1.47 1.35L5.41 20z\"/>\n",
              "  </svg>\n",
              "      </button>\n",
              "      \n",
              "  <style>\n",
              "    .colab-df-container {\n",
              "      display:flex;\n",
              "      flex-wrap:wrap;\n",
              "      gap: 12px;\n",
              "    }\n",
              "\n",
              "    .colab-df-convert {\n",
              "      background-color: #E8F0FE;\n",
              "      border: none;\n",
              "      border-radius: 50%;\n",
              "      cursor: pointer;\n",
              "      display: none;\n",
              "      fill: #1967D2;\n",
              "      height: 32px;\n",
              "      padding: 0 0 0 0;\n",
              "      width: 32px;\n",
              "    }\n",
              "\n",
              "    .colab-df-convert:hover {\n",
              "      background-color: #E2EBFA;\n",
              "      box-shadow: 0px 1px 2px rgba(60, 64, 67, 0.3), 0px 1px 3px 1px rgba(60, 64, 67, 0.15);\n",
              "      fill: #174EA6;\n",
              "    }\n",
              "\n",
              "    [theme=dark] .colab-df-convert {\n",
              "      background-color: #3B4455;\n",
              "      fill: #D2E3FC;\n",
              "    }\n",
              "\n",
              "    [theme=dark] .colab-df-convert:hover {\n",
              "      background-color: #434B5C;\n",
              "      box-shadow: 0px 1px 3px 1px rgba(0, 0, 0, 0.15);\n",
              "      filter: drop-shadow(0px 1px 2px rgba(0, 0, 0, 0.3));\n",
              "      fill: #FFFFFF;\n",
              "    }\n",
              "  </style>\n",
              "\n",
              "      <script>\n",
              "        const buttonEl =\n",
              "          document.querySelector('#df-02f30956-1585-4822-99c2-dfabbc32db47 button.colab-df-convert');\n",
              "        buttonEl.style.display =\n",
              "          google.colab.kernel.accessAllowed ? 'block' : 'none';\n",
              "\n",
              "        async function convertToInteractive(key) {\n",
              "          const element = document.querySelector('#df-02f30956-1585-4822-99c2-dfabbc32db47');\n",
              "          const dataTable =\n",
              "            await google.colab.kernel.invokeFunction('convertToInteractive',\n",
              "                                                     [key], {});\n",
              "          if (!dataTable) return;\n",
              "\n",
              "          const docLinkHtml = 'Like what you see? Visit the ' +\n",
              "            '<a target=\"_blank\" href=https://colab.research.google.com/notebooks/data_table.ipynb>data table notebook</a>'\n",
              "            + ' to learn more about interactive tables.';\n",
              "          element.innerHTML = '';\n",
              "          dataTable['output_type'] = 'display_data';\n",
              "          await google.colab.output.renderOutput(dataTable, element);\n",
              "          const docLink = document.createElement('div');\n",
              "          docLink.innerHTML = docLinkHtml;\n",
              "          element.appendChild(docLink);\n",
              "        }\n",
              "      </script>\n",
              "    </div>\n",
              "  </div>\n",
              "  "
            ]
          },
          "metadata": {},
          "execution_count": 9
        }
      ]
    },
    {
      "cell_type": "code",
      "metadata": {
        "id": "_p2XsCLfyW4C",
        "outputId": "1b910473-f9e0-40df-8bcb-c9450fb35754",
        "colab": {
          "base_uri": "https://localhost:8080/",
          "height": 423
        }
      },
      "source": [
        "df_input.query(\"Appliances > 500\")"
      ],
      "execution_count": null,
      "outputs": [
        {
          "output_type": "execute_result",
          "data": {
            "text/plain": [
              "       Appliances      T_out       RH_1  Visibility\n",
              "11            580   5.983333  46.396667   40.000000\n",
              "314           520   2.900000  41.530000   36.333333\n",
              "392           550   2.033333  43.433333   40.000000\n",
              "393           690   2.100000  43.766667   40.000000\n",
              "394           620   2.166667  43.693333   40.000000\n",
              "...           ...        ...        ...         ...\n",
              "19586         600  20.833333  44.066667   40.000000\n",
              "19587         520  20.900000  43.366667   40.000000\n",
              "19684         580  15.900000  47.226667   61.000000\n",
              "19685         660  16.100000  47.693333   61.000000\n",
              "19695         620  19.100000  48.326667   64.000000\n",
              "\n",
              "[288 rows x 4 columns]"
            ],
            "text/html": [
              "\n",
              "  <div id=\"df-117d3168-2bf0-4094-8e6e-1c1c8b89ecd0\">\n",
              "    <div class=\"colab-df-container\">\n",
              "      <div>\n",
              "<style scoped>\n",
              "    .dataframe tbody tr th:only-of-type {\n",
              "        vertical-align: middle;\n",
              "    }\n",
              "\n",
              "    .dataframe tbody tr th {\n",
              "        vertical-align: top;\n",
              "    }\n",
              "\n",
              "    .dataframe thead th {\n",
              "        text-align: right;\n",
              "    }\n",
              "</style>\n",
              "<table border=\"1\" class=\"dataframe\">\n",
              "  <thead>\n",
              "    <tr style=\"text-align: right;\">\n",
              "      <th></th>\n",
              "      <th>Appliances</th>\n",
              "      <th>T_out</th>\n",
              "      <th>RH_1</th>\n",
              "      <th>Visibility</th>\n",
              "    </tr>\n",
              "  </thead>\n",
              "  <tbody>\n",
              "    <tr>\n",
              "      <th>11</th>\n",
              "      <td>580</td>\n",
              "      <td>5.983333</td>\n",
              "      <td>46.396667</td>\n",
              "      <td>40.000000</td>\n",
              "    </tr>\n",
              "    <tr>\n",
              "      <th>314</th>\n",
              "      <td>520</td>\n",
              "      <td>2.900000</td>\n",
              "      <td>41.530000</td>\n",
              "      <td>36.333333</td>\n",
              "    </tr>\n",
              "    <tr>\n",
              "      <th>392</th>\n",
              "      <td>550</td>\n",
              "      <td>2.033333</td>\n",
              "      <td>43.433333</td>\n",
              "      <td>40.000000</td>\n",
              "    </tr>\n",
              "    <tr>\n",
              "      <th>393</th>\n",
              "      <td>690</td>\n",
              "      <td>2.100000</td>\n",
              "      <td>43.766667</td>\n",
              "      <td>40.000000</td>\n",
              "    </tr>\n",
              "    <tr>\n",
              "      <th>394</th>\n",
              "      <td>620</td>\n",
              "      <td>2.166667</td>\n",
              "      <td>43.693333</td>\n",
              "      <td>40.000000</td>\n",
              "    </tr>\n",
              "    <tr>\n",
              "      <th>...</th>\n",
              "      <td>...</td>\n",
              "      <td>...</td>\n",
              "      <td>...</td>\n",
              "      <td>...</td>\n",
              "    </tr>\n",
              "    <tr>\n",
              "      <th>19586</th>\n",
              "      <td>600</td>\n",
              "      <td>20.833333</td>\n",
              "      <td>44.066667</td>\n",
              "      <td>40.000000</td>\n",
              "    </tr>\n",
              "    <tr>\n",
              "      <th>19587</th>\n",
              "      <td>520</td>\n",
              "      <td>20.900000</td>\n",
              "      <td>43.366667</td>\n",
              "      <td>40.000000</td>\n",
              "    </tr>\n",
              "    <tr>\n",
              "      <th>19684</th>\n",
              "      <td>580</td>\n",
              "      <td>15.900000</td>\n",
              "      <td>47.226667</td>\n",
              "      <td>61.000000</td>\n",
              "    </tr>\n",
              "    <tr>\n",
              "      <th>19685</th>\n",
              "      <td>660</td>\n",
              "      <td>16.100000</td>\n",
              "      <td>47.693333</td>\n",
              "      <td>61.000000</td>\n",
              "    </tr>\n",
              "    <tr>\n",
              "      <th>19695</th>\n",
              "      <td>620</td>\n",
              "      <td>19.100000</td>\n",
              "      <td>48.326667</td>\n",
              "      <td>64.000000</td>\n",
              "    </tr>\n",
              "  </tbody>\n",
              "</table>\n",
              "<p>288 rows × 4 columns</p>\n",
              "</div>\n",
              "      <button class=\"colab-df-convert\" onclick=\"convertToInteractive('df-117d3168-2bf0-4094-8e6e-1c1c8b89ecd0')\"\n",
              "              title=\"Convert this dataframe to an interactive table.\"\n",
              "              style=\"display:none;\">\n",
              "        \n",
              "  <svg xmlns=\"http://www.w3.org/2000/svg\" height=\"24px\"viewBox=\"0 0 24 24\"\n",
              "       width=\"24px\">\n",
              "    <path d=\"M0 0h24v24H0V0z\" fill=\"none\"/>\n",
              "    <path d=\"M18.56 5.44l.94 2.06.94-2.06 2.06-.94-2.06-.94-.94-2.06-.94 2.06-2.06.94zm-11 1L8.5 8.5l.94-2.06 2.06-.94-2.06-.94L8.5 2.5l-.94 2.06-2.06.94zm10 10l.94 2.06.94-2.06 2.06-.94-2.06-.94-.94-2.06-.94 2.06-2.06.94z\"/><path d=\"M17.41 7.96l-1.37-1.37c-.4-.4-.92-.59-1.43-.59-.52 0-1.04.2-1.43.59L10.3 9.45l-7.72 7.72c-.78.78-.78 2.05 0 2.83L4 21.41c.39.39.9.59 1.41.59.51 0 1.02-.2 1.41-.59l7.78-7.78 2.81-2.81c.8-.78.8-2.07 0-2.86zM5.41 20L4 18.59l7.72-7.72 1.47 1.35L5.41 20z\"/>\n",
              "  </svg>\n",
              "      </button>\n",
              "      \n",
              "  <style>\n",
              "    .colab-df-container {\n",
              "      display:flex;\n",
              "      flex-wrap:wrap;\n",
              "      gap: 12px;\n",
              "    }\n",
              "\n",
              "    .colab-df-convert {\n",
              "      background-color: #E8F0FE;\n",
              "      border: none;\n",
              "      border-radius: 50%;\n",
              "      cursor: pointer;\n",
              "      display: none;\n",
              "      fill: #1967D2;\n",
              "      height: 32px;\n",
              "      padding: 0 0 0 0;\n",
              "      width: 32px;\n",
              "    }\n",
              "\n",
              "    .colab-df-convert:hover {\n",
              "      background-color: #E2EBFA;\n",
              "      box-shadow: 0px 1px 2px rgba(60, 64, 67, 0.3), 0px 1px 3px 1px rgba(60, 64, 67, 0.15);\n",
              "      fill: #174EA6;\n",
              "    }\n",
              "\n",
              "    [theme=dark] .colab-df-convert {\n",
              "      background-color: #3B4455;\n",
              "      fill: #D2E3FC;\n",
              "    }\n",
              "\n",
              "    [theme=dark] .colab-df-convert:hover {\n",
              "      background-color: #434B5C;\n",
              "      box-shadow: 0px 1px 3px 1px rgba(0, 0, 0, 0.15);\n",
              "      filter: drop-shadow(0px 1px 2px rgba(0, 0, 0, 0.3));\n",
              "      fill: #FFFFFF;\n",
              "    }\n",
              "  </style>\n",
              "\n",
              "      <script>\n",
              "        const buttonEl =\n",
              "          document.querySelector('#df-117d3168-2bf0-4094-8e6e-1c1c8b89ecd0 button.colab-df-convert');\n",
              "        buttonEl.style.display =\n",
              "          google.colab.kernel.accessAllowed ? 'block' : 'none';\n",
              "\n",
              "        async function convertToInteractive(key) {\n",
              "          const element = document.querySelector('#df-117d3168-2bf0-4094-8e6e-1c1c8b89ecd0');\n",
              "          const dataTable =\n",
              "            await google.colab.kernel.invokeFunction('convertToInteractive',\n",
              "                                                     [key], {});\n",
              "          if (!dataTable) return;\n",
              "\n",
              "          const docLinkHtml = 'Like what you see? Visit the ' +\n",
              "            '<a target=\"_blank\" href=https://colab.research.google.com/notebooks/data_table.ipynb>data table notebook</a>'\n",
              "            + ' to learn more about interactive tables.';\n",
              "          element.innerHTML = '';\n",
              "          dataTable['output_type'] = 'display_data';\n",
              "          await google.colab.output.renderOutput(dataTable, element);\n",
              "          const docLink = document.createElement('div');\n",
              "          docLink.innerHTML = docLinkHtml;\n",
              "          element.appendChild(docLink);\n",
              "        }\n",
              "      </script>\n",
              "    </div>\n",
              "  </div>\n",
              "  "
            ]
          },
          "metadata": {},
          "execution_count": 10
        }
      ]
    },
    {
      "cell_type": "code",
      "metadata": {
        "id": "gdnkSpWaENYQ"
      },
      "source": [
        "scaler = MinMaxScaler()\n",
        "data_scaled = scaler.fit_transform(df_input)"
      ],
      "execution_count": null,
      "outputs": []
    },
    {
      "cell_type": "code",
      "metadata": {
        "id": "rCY48qWVESHY",
        "outputId": "5f5ff54c-73fb-496b-9edc-344d61448c79",
        "colab": {
          "base_uri": "https://localhost:8080/"
        }
      },
      "source": [
        "data_scaled"
      ],
      "execution_count": null,
      "outputs": [
        {
          "output_type": "execute_result",
          "data": {
            "text/plain": [
              "array([[0.04672897, 0.37299035, 0.56618659, 0.95384615],\n",
              "       [0.04672897, 0.36923901, 0.54132648, 0.89487179],\n",
              "       [0.03738318, 0.36548767, 0.53050179, 0.83589744],\n",
              "       ...,\n",
              "       [0.24299065, 0.88317256, 0.53866618, 0.37435897],\n",
              "       [0.38317757, 0.87888532, 0.54949087, 0.38717949],\n",
              "       [0.39252336, 0.87459807, 0.53875791, 0.4       ]])"
            ]
          },
          "metadata": {},
          "execution_count": 12
        }
      ]
    },
    {
      "cell_type": "code",
      "metadata": {
        "id": "IEZuMY99zfLU"
      },
      "source": [
        "features=data_scaled\n",
        "target=data_scaled[:,0]"
      ],
      "execution_count": null,
      "outputs": []
    },
    {
      "cell_type": "code",
      "metadata": {
        "id": "1Ag5wZCs9ZFY",
        "outputId": "11934d59-fdd2-419a-c812-8832f4c20900",
        "colab": {
          "base_uri": "https://localhost:8080/"
        }
      },
      "source": [
        "TimeseriesGenerator(features, target, length=2, sampling_rate=1, batch_size=1)[0]"
      ],
      "execution_count": null,
      "outputs": [
        {
          "output_type": "execute_result",
          "data": {
            "text/plain": [
              "(array([[[0.04672897, 0.37299035, 0.56618659, 0.95384615],\n",
              "         [0.04672897, 0.36923901, 0.54132648, 0.89487179]]]),\n",
              " array([0.03738318]))"
            ]
          },
          "metadata": {},
          "execution_count": 14
        }
      ]
    },
    {
      "cell_type": "code",
      "metadata": {
        "id": "l3D7t9UA4Juf"
      },
      "source": [
        "x_train, x_test, y_train, y_test = train_test_split(features, target, test_size=0.20, random_state=123, shuffle = False)"
      ],
      "execution_count": null,
      "outputs": []
    },
    {
      "cell_type": "code",
      "metadata": {
        "id": "DLv-nf0rFlLw",
        "outputId": "8b9a04cc-8ed8-4f3a-cf5d-40e88ab87626",
        "colab": {
          "base_uri": "https://localhost:8080/"
        }
      },
      "source": [
        "x_train.shape"
      ],
      "execution_count": null,
      "outputs": [
        {
          "output_type": "execute_result",
          "data": {
            "text/plain": [
              "(15788, 4)"
            ]
          },
          "metadata": {},
          "execution_count": 16
        }
      ]
    },
    {
      "cell_type": "code",
      "metadata": {
        "id": "Ez0G67QwK_aW",
        "outputId": "7d296f46-75ed-4179-b430-f4061a81f6fd",
        "colab": {
          "base_uri": "https://localhost:8080/"
        }
      },
      "source": [
        "x_test.shape"
      ],
      "execution_count": null,
      "outputs": [
        {
          "output_type": "execute_result",
          "data": {
            "text/plain": [
              "(3947, 4)"
            ]
          },
          "metadata": {},
          "execution_count": 17
        }
      ]
    },
    {
      "cell_type": "code",
      "metadata": {
        "id": "XAR9vd-n1MIK"
      },
      "source": [
        "win_length=720\n",
        "batch_size=32\n",
        "num_features=4\n",
        "train_generator = TimeseriesGenerator(x_train, y_train, length=win_length, sampling_rate=1, batch_size=batch_size)\n",
        "test_generator = TimeseriesGenerator(x_test, y_test, length=win_length, sampling_rate=1, batch_size=batch_size)"
      ],
      "execution_count": null,
      "outputs": []
    },
    {
      "cell_type": "code",
      "metadata": {
        "id": "YW4H0bXV2NwA",
        "outputId": "a7179143-8644-4543-fcc2-e424780400a2",
        "colab": {
          "base_uri": "https://localhost:8080/"
        }
      },
      "source": [
        "train_generator[0]"
      ],
      "execution_count": null,
      "outputs": [
        {
          "output_type": "execute_result",
          "data": {
            "text/plain": [
              "(array([[[0.04672897, 0.37299035, 0.56618659, 0.95384615],\n",
              "         [0.04672897, 0.36923901, 0.54132648, 0.89487179],\n",
              "         [0.03738318, 0.36548767, 0.53050179, 0.83589744],\n",
              "         ...,\n",
              "         [0.06542056, 0.25241158, 0.31584258, 0.79230769],\n",
              "         [0.05607477, 0.23901393, 0.31309054, 0.72820513],\n",
              "         [0.06542056, 0.22561629, 0.31107238, 0.66410256]],\n",
              " \n",
              "        [[0.04672897, 0.36923901, 0.54132648, 0.89487179],\n",
              "         [0.03738318, 0.36548767, 0.53050179, 0.83589744],\n",
              "         [0.03738318, 0.36173633, 0.52408036, 0.77692308],\n",
              "         ...,\n",
              "         [0.05607477, 0.23901393, 0.31309054, 0.72820513],\n",
              "         [0.06542056, 0.22561629, 0.31107238, 0.66410256],\n",
              "         [0.06542056, 0.21221865, 0.30923768, 0.6       ]],\n",
              " \n",
              "        [[0.03738318, 0.36548767, 0.53050179, 0.83589744],\n",
              "         [0.03738318, 0.36173633, 0.52408036, 0.77692308],\n",
              "         [0.04672897, 0.35798499, 0.53141914, 0.71794872],\n",
              "         ...,\n",
              "         [0.06542056, 0.22561629, 0.31107238, 0.66410256],\n",
              "         [0.06542056, 0.21221865, 0.30923768, 0.6       ],\n",
              "         [0.13084112, 0.2170418 , 0.3055683 , 0.6       ]],\n",
              " \n",
              "        ...,\n",
              " \n",
              "        [[0.08411215, 0.34297964, 0.50389872, 0.6       ],\n",
              "         [0.09345794, 0.34083601, 0.49821117, 0.6       ],\n",
              "         [0.36448598, 0.34244373, 0.49380791, 0.6       ],\n",
              "         ...,\n",
              "         [0.08411215, 0.17470525, 0.32134667, 0.24615385],\n",
              "         [0.09345794, 0.17524116, 0.31749381, 0.26923077],\n",
              "         [0.09345794, 0.17577706, 0.31400789, 0.29230769]],\n",
              " \n",
              "        [[0.09345794, 0.34083601, 0.49821117, 0.6       ],\n",
              "         [0.36448598, 0.34244373, 0.49380791, 0.6       ],\n",
              "         [0.36448598, 0.34405145, 0.48830383, 0.6       ],\n",
              "         ...,\n",
              "         [0.09345794, 0.17524116, 0.31749381, 0.26923077],\n",
              "         [0.09345794, 0.17577706, 0.31400789, 0.29230769],\n",
              "         [0.1682243 , 0.17631297, 0.31208146, 0.31538462]],\n",
              " \n",
              "        [[0.36448598, 0.34244373, 0.49380791, 0.6       ],\n",
              "         [0.36448598, 0.34405145, 0.48830383, 0.6       ],\n",
              "         [0.35514019, 0.34565916, 0.48261627, 0.6       ],\n",
              "         ...,\n",
              "         [0.09345794, 0.17577706, 0.31400789, 0.29230769],\n",
              "         [0.1682243 , 0.17631297, 0.31208146, 0.31538462],\n",
              "         [0.41121495, 0.17684887, 0.3100633 , 0.33846154]]]),\n",
              " array([0.06542056, 0.13084112, 0.34579439, 0.26168224, 0.24299065,\n",
              "        0.38317757, 0.25233645, 0.27102804, 0.31775701, 0.24299065,\n",
              "        0.51401869, 1.        , 0.69158879, 0.35514019, 0.31775701,\n",
              "        0.30841121, 0.26168224, 0.20560748, 0.10280374, 0.09345794,\n",
              "        0.08411215, 0.09345794, 0.11214953, 0.12149533, 0.09345794,\n",
              "        0.08411215, 0.08411215, 0.09345794, 0.09345794, 0.1682243 ,\n",
              "        0.41121495, 0.18691589]))"
            ]
          },
          "metadata": {},
          "execution_count": 19
        }
      ]
    },
    {
      "cell_type": "code",
      "metadata": {
        "id": "P8AvmYYcNyOR"
      },
      "source": [
        "model = tf.keras.Sequential()\n",
        "model.add(tf.keras.layers.LSTM(128, input_shape= (win_length, num_features), return_sequences=True))\n",
        "model.add(tf.keras.layers.LeakyReLU(alpha=0.5)) \n",
        "model.add(tf.keras.layers.LSTM(128, return_sequences=True))\n",
        "model.add(tf.keras.layers.LeakyReLU(alpha=0.5)) \n",
        "model.add(tf.keras.layers.Dropout(0.3)) \n",
        "model.add(tf.keras.layers.LSTM(64, return_sequences=False))\n",
        "model.add(tf.keras.layers.Dropout(0.3)) \n",
        "model.add(tf.keras.layers.Dense(1))"
      ],
      "execution_count": null,
      "outputs": []
    },
    {
      "cell_type": "code",
      "metadata": {
        "id": "2dQ-DlXiLswo",
        "outputId": "c0cb821e-90b1-4729-a3a6-99198b917146",
        "colab": {
          "base_uri": "https://localhost:8080/"
        }
      },
      "source": [
        "model.summary()"
      ],
      "execution_count": null,
      "outputs": [
        {
          "output_type": "stream",
          "name": "stdout",
          "text": [
            "Model: \"sequential\"\n",
            "_________________________________________________________________\n",
            " Layer (type)                Output Shape              Param #   \n",
            "=================================================================\n",
            " lstm (LSTM)                 (None, 720, 128)          68096     \n",
            "                                                                 \n",
            " leaky_re_lu (LeakyReLU)     (None, 720, 128)          0         \n",
            "                                                                 \n",
            " lstm_1 (LSTM)               (None, 720, 128)          131584    \n",
            "                                                                 \n",
            " leaky_re_lu_1 (LeakyReLU)   (None, 720, 128)          0         \n",
            "                                                                 \n",
            " dropout (Dropout)           (None, 720, 128)          0         \n",
            "                                                                 \n",
            " lstm_2 (LSTM)               (None, 64)                49408     \n",
            "                                                                 \n",
            " dropout_1 (Dropout)         (None, 64)                0         \n",
            "                                                                 \n",
            " dense (Dense)               (None, 1)                 65        \n",
            "                                                                 \n",
            "=================================================================\n",
            "Total params: 249,153\n",
            "Trainable params: 249,153\n",
            "Non-trainable params: 0\n",
            "_________________________________________________________________\n"
          ]
        }
      ]
    },
    {
      "cell_type": "code",
      "metadata": {
        "id": "JHnl-d8824y0",
        "outputId": "7902fdba-866d-4d28-b020-85d7184fd6e8",
        "colab": {
          "base_uri": "https://localhost:8080/"
        }
      },
      "source": [
        "early_stopping = tf.keras.callbacks.EarlyStopping(monitor='val_loss',\n",
        "                                                    patience=2,\n",
        "                                                    mode='min')\n",
        "\n",
        "model.compile(loss=tf.losses.MeanSquaredError(),\n",
        "              optimizer=tf.optimizers.Adam(),\n",
        "              metrics=[tf.metrics.MeanAbsoluteError()])\n",
        "\n",
        "history = model.fit_generator(train_generator, epochs=50,\n",
        "                    validation_data=test_generator,\n",
        "                    shuffle=False,\n",
        "                    callbacks=[early_stopping])"
      ],
      "execution_count": null,
      "outputs": [
        {
          "metadata": {
            "tags": null
          },
          "name": "stdout",
          "output_type": "stream",
          "text": [
            "Epoch 1/50\n"
          ]
        },
        {
          "metadata": {
            "tags": null
          },
          "name": "stderr",
          "output_type": "stream",
          "text": [
            "/usr/local/lib/python3.7/dist-packages/ipykernel_launcher.py:12: UserWarning: `Model.fit_generator` is deprecated and will be removed in a future version. Please use `Model.fit`, which supports generators.\n",
            "  if sys.path[0] == '':\n"
          ]
        },
        {
          "output_type": "stream",
          "name": "stdout",
          "text": [
            "471/471 [==============================] - 52s 92ms/step - loss: 0.0086 - mean_absolute_error: 0.0514 - val_loss: 0.0056 - val_mean_absolute_error: 0.0463\n",
            "Epoch 2/50\n",
            "471/471 [==============================] - 41s 87ms/step - loss: 0.0067 - mean_absolute_error: 0.0430 - val_loss: 0.0045 - val_mean_absolute_error: 0.0395\n",
            "Epoch 3/50\n",
            "471/471 [==============================] - 42s 90ms/step - loss: 0.0048 - mean_absolute_error: 0.0351 - val_loss: 0.0034 - val_mean_absolute_error: 0.0315\n",
            "Epoch 4/50\n",
            "471/471 [==============================] - 43s 91ms/step - loss: 0.0042 - mean_absolute_error: 0.0320 - val_loss: 0.0033 - val_mean_absolute_error: 0.0298\n",
            "Epoch 5/50\n",
            "471/471 [==============================] - 43s 90ms/step - loss: 0.0041 - mean_absolute_error: 0.0312 - val_loss: 0.0032 - val_mean_absolute_error: 0.0297\n",
            "Epoch 6/50\n",
            "471/471 [==============================] - 43s 90ms/step - loss: 0.0041 - mean_absolute_error: 0.0312 - val_loss: 0.0033 - val_mean_absolute_error: 0.0299\n",
            "Epoch 7/50\n",
            "471/471 [==============================] - 43s 90ms/step - loss: 0.0040 - mean_absolute_error: 0.0310 - val_loss: 0.0032 - val_mean_absolute_error: 0.0274\n",
            "Epoch 8/50\n",
            "471/471 [==============================] - 42s 89ms/step - loss: 0.0040 - mean_absolute_error: 0.0308 - val_loss: 0.0032 - val_mean_absolute_error: 0.0285\n",
            "Epoch 9/50\n",
            "471/471 [==============================] - 43s 91ms/step - loss: 0.0040 - mean_absolute_error: 0.0308 - val_loss: 0.0032 - val_mean_absolute_error: 0.0285\n",
            "Epoch 10/50\n",
            "471/471 [==============================] - 42s 90ms/step - loss: 0.0040 - mean_absolute_error: 0.0308 - val_loss: 0.0032 - val_mean_absolute_error: 0.0285\n",
            "Epoch 11/50\n",
            "471/471 [==============================] - 42s 90ms/step - loss: 0.0040 - mean_absolute_error: 0.0307 - val_loss: 0.0032 - val_mean_absolute_error: 0.0287\n"
          ]
        }
      ]
    },
    {
      "cell_type": "code",
      "metadata": {
        "id": "G4q1O2Hw5tXI",
        "outputId": "bab45607-5f74-412a-84b2-60376e07cece",
        "colab": {
          "base_uri": "https://localhost:8080/"
        }
      },
      "source": [
        "model.evaluate_generator(test_generator, verbose=0)  "
      ],
      "execution_count": null,
      "outputs": [
        {
          "output_type": "stream",
          "name": "stderr",
          "text": [
            "/usr/local/lib/python3.7/dist-packages/ipykernel_launcher.py:1: UserWarning: `Model.evaluate_generator` is deprecated and will be removed in a future version. Please use `Model.evaluate`, which supports generators.\n",
            "  \"\"\"Entry point for launching an IPython kernel.\n"
          ]
        },
        {
          "output_type": "execute_result",
          "data": {
            "text/plain": [
              "[0.0031898794695734978, 0.02869301103055477]"
            ]
          },
          "metadata": {},
          "execution_count": 23
        }
      ]
    },
    {
      "cell_type": "code",
      "metadata": {
        "id": "Wx6HG0ZjXodP",
        "outputId": "e50c6b68-4c1d-4b32-b0e7-facb9703dc7d",
        "colab": {
          "base_uri": "https://localhost:8080/"
        }
      },
      "source": [
        "predictions=model.predict_generator(test_generator)"
      ],
      "execution_count": null,
      "outputs": [
        {
          "output_type": "stream",
          "name": "stderr",
          "text": [
            "/usr/local/lib/python3.7/dist-packages/ipykernel_launcher.py:1: UserWarning: `Model.predict_generator` is deprecated and will be removed in a future version. Please use `Model.predict`, which supports generators.\n",
            "  \"\"\"Entry point for launching an IPython kernel.\n"
          ]
        }
      ]
    },
    {
      "cell_type": "code",
      "metadata": {
        "id": "kEoR4K3pYDnR",
        "outputId": "5539a427-14a5-47df-8c06-681fae997dd9",
        "colab": {
          "base_uri": "https://localhost:8080/"
        }
      },
      "source": [
        "predictions.shape[0]"
      ],
      "execution_count": null,
      "outputs": [
        {
          "output_type": "execute_result",
          "data": {
            "text/plain": [
              "3227"
            ]
          },
          "metadata": {},
          "execution_count": 25
        }
      ]
    },
    {
      "cell_type": "code",
      "metadata": {
        "id": "GMC2ewo0YRDW",
        "outputId": "f77c6264-ddcd-418f-93b7-d66c6449e761",
        "colab": {
          "base_uri": "https://localhost:8080/"
        }
      },
      "source": [
        "predictions"
      ],
      "execution_count": null,
      "outputs": [
        {
          "output_type": "execute_result",
          "data": {
            "text/plain": [
              "array([[0.0708862 ],\n",
              "       [0.09417921],\n",
              "       [0.1206563 ],\n",
              "       ...,\n",
              "       [0.09085203],\n",
              "       [0.25406024],\n",
              "       [0.26774102]], dtype=float32)"
            ]
          },
          "metadata": {},
          "execution_count": 26
        }
      ]
    },
    {
      "cell_type": "code",
      "metadata": {
        "id": "dzQB2PtOYeMy",
        "outputId": "4cae7ce8-c8ee-4d80-97a7-454f3796ab73",
        "colab": {
          "base_uri": "https://localhost:8080/"
        }
      },
      "source": [
        "y_test"
      ],
      "execution_count": null,
      "outputs": [
        {
          "output_type": "execute_result",
          "data": {
            "text/plain": [
              "array([0.3364486 , 0.54205607, 0.28971963, ..., 0.24299065, 0.38317757,\n",
              "       0.39252336])"
            ]
          },
          "metadata": {},
          "execution_count": 27
        }
      ]
    },
    {
      "cell_type": "code",
      "metadata": {
        "id": "tiw-WJ9f9OUV",
        "outputId": "72bdded0-1419-47c8-a16e-da416ad31274",
        "colab": {
          "base_uri": "https://localhost:8080/"
        }
      },
      "source": [
        "x_test"
      ],
      "execution_count": null,
      "outputs": [
        {
          "output_type": "execute_result",
          "data": {
            "text/plain": [
              "array([[0.3364486 , 0.34297964, 0.30923768, 0.6       ],\n",
              "       [0.54205607, 0.34726688, 0.3055683 , 0.6       ],\n",
              "       [0.28971963, 0.35155413, 0.30455921, 0.6       ],\n",
              "       ...,\n",
              "       [0.24299065, 0.88317256, 0.53866618, 0.37435897],\n",
              "       [0.38317757, 0.87888532, 0.54949087, 0.38717949],\n",
              "       [0.39252336, 0.87459807, 0.53875791, 0.4       ]])"
            ]
          },
          "metadata": {},
          "execution_count": 28
        }
      ]
    },
    {
      "cell_type": "code",
      "metadata": {
        "id": "3YhtkAbq7hGf",
        "outputId": "71f5a5c1-5fdc-4e62-855e-0cc14ee2d2bc",
        "colab": {
          "base_uri": "https://localhost:8080/"
        }
      },
      "source": [
        "x_test[:,1:][win_length:]"
      ],
      "execution_count": null,
      "outputs": [
        {
          "output_type": "execute_result",
          "data": {
            "text/plain": [
              "array([[0.45337621, 0.20851298, 0.6       ],\n",
              "       [0.47106109, 0.18282726, 0.6       ],\n",
              "       [0.48874598, 0.18466196, 0.6       ],\n",
              "       ...,\n",
              "       [0.88317256, 0.53866618, 0.37435897],\n",
              "       [0.87888532, 0.54949087, 0.38717949],\n",
              "       [0.87459807, 0.53875791, 0.4       ]])"
            ]
          },
          "metadata": {},
          "execution_count": 29
        }
      ]
    },
    {
      "cell_type": "code",
      "metadata": {
        "id": "qR04JJlC6yaM"
      },
      "source": [
        "df_pred=pd.concat([pd.DataFrame(predictions), pd.DataFrame(x_test[:,1:][win_length:])],axis=1)"
      ],
      "execution_count": null,
      "outputs": []
    },
    {
      "cell_type": "code",
      "metadata": {
        "id": "3Fu_2Z9DR7rh",
        "outputId": "a4a183a0-5099-4893-9697-b77f16d330ad",
        "colab": {
          "base_uri": "https://localhost:8080/",
          "height": 423
        }
      },
      "source": [
        "df_pred"
      ],
      "execution_count": null,
      "outputs": [
        {
          "output_type": "execute_result",
          "data": {
            "text/plain": [
              "             0         0         1         2\n",
              "0     0.070886  0.453376  0.208513  0.600000\n",
              "1     0.094179  0.471061  0.182827  0.600000\n",
              "2     0.120656  0.488746  0.184662  0.600000\n",
              "3     0.336673  0.506431  0.193996  0.600000\n",
              "4     0.154788  0.524116  0.181818  0.600000\n",
              "...        ...       ...       ...       ...\n",
              "3222  0.091121  0.891747  0.537657  0.348718\n",
              "3223  0.103359  0.887460  0.536006  0.361538\n",
              "3224  0.090852  0.883173  0.538666  0.374359\n",
              "3225  0.254060  0.878885  0.549491  0.387179\n",
              "3226  0.267741  0.874598  0.538758  0.400000\n",
              "\n",
              "[3227 rows x 4 columns]"
            ],
            "text/html": [
              "\n",
              "  <div id=\"df-7f6032ee-8b96-4f27-8d87-7c8e7046bc80\">\n",
              "    <div class=\"colab-df-container\">\n",
              "      <div>\n",
              "<style scoped>\n",
              "    .dataframe tbody tr th:only-of-type {\n",
              "        vertical-align: middle;\n",
              "    }\n",
              "\n",
              "    .dataframe tbody tr th {\n",
              "        vertical-align: top;\n",
              "    }\n",
              "\n",
              "    .dataframe thead th {\n",
              "        text-align: right;\n",
              "    }\n",
              "</style>\n",
              "<table border=\"1\" class=\"dataframe\">\n",
              "  <thead>\n",
              "    <tr style=\"text-align: right;\">\n",
              "      <th></th>\n",
              "      <th>0</th>\n",
              "      <th>0</th>\n",
              "      <th>1</th>\n",
              "      <th>2</th>\n",
              "    </tr>\n",
              "  </thead>\n",
              "  <tbody>\n",
              "    <tr>\n",
              "      <th>0</th>\n",
              "      <td>0.070886</td>\n",
              "      <td>0.453376</td>\n",
              "      <td>0.208513</td>\n",
              "      <td>0.600000</td>\n",
              "    </tr>\n",
              "    <tr>\n",
              "      <th>1</th>\n",
              "      <td>0.094179</td>\n",
              "      <td>0.471061</td>\n",
              "      <td>0.182827</td>\n",
              "      <td>0.600000</td>\n",
              "    </tr>\n",
              "    <tr>\n",
              "      <th>2</th>\n",
              "      <td>0.120656</td>\n",
              "      <td>0.488746</td>\n",
              "      <td>0.184662</td>\n",
              "      <td>0.600000</td>\n",
              "    </tr>\n",
              "    <tr>\n",
              "      <th>3</th>\n",
              "      <td>0.336673</td>\n",
              "      <td>0.506431</td>\n",
              "      <td>0.193996</td>\n",
              "      <td>0.600000</td>\n",
              "    </tr>\n",
              "    <tr>\n",
              "      <th>4</th>\n",
              "      <td>0.154788</td>\n",
              "      <td>0.524116</td>\n",
              "      <td>0.181818</td>\n",
              "      <td>0.600000</td>\n",
              "    </tr>\n",
              "    <tr>\n",
              "      <th>...</th>\n",
              "      <td>...</td>\n",
              "      <td>...</td>\n",
              "      <td>...</td>\n",
              "      <td>...</td>\n",
              "    </tr>\n",
              "    <tr>\n",
              "      <th>3222</th>\n",
              "      <td>0.091121</td>\n",
              "      <td>0.891747</td>\n",
              "      <td>0.537657</td>\n",
              "      <td>0.348718</td>\n",
              "    </tr>\n",
              "    <tr>\n",
              "      <th>3223</th>\n",
              "      <td>0.103359</td>\n",
              "      <td>0.887460</td>\n",
              "      <td>0.536006</td>\n",
              "      <td>0.361538</td>\n",
              "    </tr>\n",
              "    <tr>\n",
              "      <th>3224</th>\n",
              "      <td>0.090852</td>\n",
              "      <td>0.883173</td>\n",
              "      <td>0.538666</td>\n",
              "      <td>0.374359</td>\n",
              "    </tr>\n",
              "    <tr>\n",
              "      <th>3225</th>\n",
              "      <td>0.254060</td>\n",
              "      <td>0.878885</td>\n",
              "      <td>0.549491</td>\n",
              "      <td>0.387179</td>\n",
              "    </tr>\n",
              "    <tr>\n",
              "      <th>3226</th>\n",
              "      <td>0.267741</td>\n",
              "      <td>0.874598</td>\n",
              "      <td>0.538758</td>\n",
              "      <td>0.400000</td>\n",
              "    </tr>\n",
              "  </tbody>\n",
              "</table>\n",
              "<p>3227 rows × 4 columns</p>\n",
              "</div>\n",
              "      <button class=\"colab-df-convert\" onclick=\"convertToInteractive('df-7f6032ee-8b96-4f27-8d87-7c8e7046bc80')\"\n",
              "              title=\"Convert this dataframe to an interactive table.\"\n",
              "              style=\"display:none;\">\n",
              "        \n",
              "  <svg xmlns=\"http://www.w3.org/2000/svg\" height=\"24px\"viewBox=\"0 0 24 24\"\n",
              "       width=\"24px\">\n",
              "    <path d=\"M0 0h24v24H0V0z\" fill=\"none\"/>\n",
              "    <path d=\"M18.56 5.44l.94 2.06.94-2.06 2.06-.94-2.06-.94-.94-2.06-.94 2.06-2.06.94zm-11 1L8.5 8.5l.94-2.06 2.06-.94-2.06-.94L8.5 2.5l-.94 2.06-2.06.94zm10 10l.94 2.06.94-2.06 2.06-.94-2.06-.94-.94-2.06-.94 2.06-2.06.94z\"/><path d=\"M17.41 7.96l-1.37-1.37c-.4-.4-.92-.59-1.43-.59-.52 0-1.04.2-1.43.59L10.3 9.45l-7.72 7.72c-.78.78-.78 2.05 0 2.83L4 21.41c.39.39.9.59 1.41.59.51 0 1.02-.2 1.41-.59l7.78-7.78 2.81-2.81c.8-.78.8-2.07 0-2.86zM5.41 20L4 18.59l7.72-7.72 1.47 1.35L5.41 20z\"/>\n",
              "  </svg>\n",
              "      </button>\n",
              "      \n",
              "  <style>\n",
              "    .colab-df-container {\n",
              "      display:flex;\n",
              "      flex-wrap:wrap;\n",
              "      gap: 12px;\n",
              "    }\n",
              "\n",
              "    .colab-df-convert {\n",
              "      background-color: #E8F0FE;\n",
              "      border: none;\n",
              "      border-radius: 50%;\n",
              "      cursor: pointer;\n",
              "      display: none;\n",
              "      fill: #1967D2;\n",
              "      height: 32px;\n",
              "      padding: 0 0 0 0;\n",
              "      width: 32px;\n",
              "    }\n",
              "\n",
              "    .colab-df-convert:hover {\n",
              "      background-color: #E2EBFA;\n",
              "      box-shadow: 0px 1px 2px rgba(60, 64, 67, 0.3), 0px 1px 3px 1px rgba(60, 64, 67, 0.15);\n",
              "      fill: #174EA6;\n",
              "    }\n",
              "\n",
              "    [theme=dark] .colab-df-convert {\n",
              "      background-color: #3B4455;\n",
              "      fill: #D2E3FC;\n",
              "    }\n",
              "\n",
              "    [theme=dark] .colab-df-convert:hover {\n",
              "      background-color: #434B5C;\n",
              "      box-shadow: 0px 1px 3px 1px rgba(0, 0, 0, 0.15);\n",
              "      filter: drop-shadow(0px 1px 2px rgba(0, 0, 0, 0.3));\n",
              "      fill: #FFFFFF;\n",
              "    }\n",
              "  </style>\n",
              "\n",
              "      <script>\n",
              "        const buttonEl =\n",
              "          document.querySelector('#df-7f6032ee-8b96-4f27-8d87-7c8e7046bc80 button.colab-df-convert');\n",
              "        buttonEl.style.display =\n",
              "          google.colab.kernel.accessAllowed ? 'block' : 'none';\n",
              "\n",
              "        async function convertToInteractive(key) {\n",
              "          const element = document.querySelector('#df-7f6032ee-8b96-4f27-8d87-7c8e7046bc80');\n",
              "          const dataTable =\n",
              "            await google.colab.kernel.invokeFunction('convertToInteractive',\n",
              "                                                     [key], {});\n",
              "          if (!dataTable) return;\n",
              "\n",
              "          const docLinkHtml = 'Like what you see? Visit the ' +\n",
              "            '<a target=\"_blank\" href=https://colab.research.google.com/notebooks/data_table.ipynb>data table notebook</a>'\n",
              "            + ' to learn more about interactive tables.';\n",
              "          element.innerHTML = '';\n",
              "          dataTable['output_type'] = 'display_data';\n",
              "          await google.colab.output.renderOutput(dataTable, element);\n",
              "          const docLink = document.createElement('div');\n",
              "          docLink.innerHTML = docLinkHtml;\n",
              "          element.appendChild(docLink);\n",
              "        }\n",
              "      </script>\n",
              "    </div>\n",
              "  </div>\n",
              "  "
            ]
          },
          "metadata": {},
          "execution_count": 31
        }
      ]
    },
    {
      "cell_type": "code",
      "metadata": {
        "id": "noykl7lh9hmT"
      },
      "source": [
        "rev_trans=scaler.inverse_transform(df_pred)"
      ],
      "execution_count": null,
      "outputs": []
    },
    {
      "cell_type": "code",
      "metadata": {
        "id": "D2vcu4tBAf4n",
        "outputId": "5048058d-546a-4511-d286-88c6196c6301",
        "colab": {
          "base_uri": "https://localhost:8080/"
        }
      },
      "source": [
        "rev_trans"
      ],
      "execution_count": null,
      "outputs": [
        {
          "output_type": "execute_result",
          "data": {
            "text/plain": [
              "array([[ 85.84823631,   9.1       ,  34.6       ,  40.        ],\n",
              "       [110.77175796,   9.65      ,  33.66666667,  40.        ],\n",
              "       [139.10223737,  10.2       ,  33.73333333,  40.        ],\n",
              "       ...,\n",
              "       [107.2116717 ,  22.46666667,  46.59666667,  25.33333333],\n",
              "       [281.8444553 ,  22.33333333,  46.99      ,  26.16666667],\n",
              "       [296.48289621,  22.2       ,  46.6       ,  27.        ]])"
            ]
          },
          "metadata": {},
          "execution_count": 33
        }
      ]
    },
    {
      "cell_type": "code",
      "metadata": {
        "id": "5eopbjZZBRUs"
      },
      "source": [
        "df_final=df_input[predictions.shape[0]*-1:]"
      ],
      "execution_count": null,
      "outputs": []
    },
    {
      "cell_type": "code",
      "metadata": {
        "id": "iEgc_FyMBjSO",
        "outputId": "46ca2fc4-3e16-4990-e183-7cb25f706697",
        "colab": {
          "base_uri": "https://localhost:8080/"
        }
      },
      "source": [
        "df_final.count()"
      ],
      "execution_count": null,
      "outputs": [
        {
          "output_type": "execute_result",
          "data": {
            "text/plain": [
              "Appliances    3227\n",
              "T_out         3227\n",
              "RH_1          3227\n",
              "Visibility    3227\n",
              "dtype: int64"
            ]
          },
          "metadata": {},
          "execution_count": 35
        }
      ]
    },
    {
      "cell_type": "code",
      "metadata": {
        "id": "D1VdgBdB-aWE",
        "outputId": "5f5c1fd9-1224-4c15-df8a-e88358693bb7",
        "colab": {
          "base_uri": "https://localhost:8080/"
        }
      },
      "source": [
        "df_final['App_Pred']=rev_trans[:,0]"
      ],
      "execution_count": null,
      "outputs": [
        {
          "output_type": "stream",
          "name": "stderr",
          "text": [
            "/usr/local/lib/python3.7/dist-packages/ipykernel_launcher.py:1: SettingWithCopyWarning: \n",
            "A value is trying to be set on a copy of a slice from a DataFrame.\n",
            "Try using .loc[row_indexer,col_indexer] = value instead\n",
            "\n",
            "See the caveats in the documentation: https://pandas.pydata.org/pandas-docs/stable/user_guide/indexing.html#returning-a-view-versus-a-copy\n",
            "  \"\"\"Entry point for launching an IPython kernel.\n"
          ]
        }
      ]
    },
    {
      "cell_type": "code",
      "metadata": {
        "id": "Ym90OS9J_-6O",
        "outputId": "dc151081-cd8c-4826-e699-ca40be2f7f7f",
        "colab": {
          "base_uri": "https://localhost:8080/",
          "height": 423
        }
      },
      "source": [
        "df_final"
      ],
      "execution_count": null,
      "outputs": [
        {
          "output_type": "execute_result",
          "data": {
            "text/plain": [
              "       Appliances      T_out       RH_1  Visibility    App_Pred\n",
              "16508          90   9.100000  34.600000   40.000000   85.848236\n",
              "16509         120   9.650000  33.666667   40.000000  110.771758\n",
              "16510         390  10.200000  33.733333   40.000000  139.102237\n",
              "16511         240  10.750000  34.072500   40.000000  370.240452\n",
              "16512         120  11.300000  33.630000   40.000000  175.622891\n",
              "...           ...        ...        ...         ...         ...\n",
              "19730         100  22.733333  46.560000   23.666667  107.499537\n",
              "19731          90  22.600000  46.500000   24.500000  120.593714\n",
              "19732         270  22.466667  46.596667   25.333333  107.211672\n",
              "19733         420  22.333333  46.990000   26.166667  281.844455\n",
              "19734         430  22.200000  46.600000   27.000000  296.482896\n",
              "\n",
              "[3227 rows x 5 columns]"
            ],
            "text/html": [
              "\n",
              "  <div id=\"df-14fcd12a-5831-4b8f-a60d-d24bd656a66c\">\n",
              "    <div class=\"colab-df-container\">\n",
              "      <div>\n",
              "<style scoped>\n",
              "    .dataframe tbody tr th:only-of-type {\n",
              "        vertical-align: middle;\n",
              "    }\n",
              "\n",
              "    .dataframe tbody tr th {\n",
              "        vertical-align: top;\n",
              "    }\n",
              "\n",
              "    .dataframe thead th {\n",
              "        text-align: right;\n",
              "    }\n",
              "</style>\n",
              "<table border=\"1\" class=\"dataframe\">\n",
              "  <thead>\n",
              "    <tr style=\"text-align: right;\">\n",
              "      <th></th>\n",
              "      <th>Appliances</th>\n",
              "      <th>T_out</th>\n",
              "      <th>RH_1</th>\n",
              "      <th>Visibility</th>\n",
              "      <th>App_Pred</th>\n",
              "    </tr>\n",
              "  </thead>\n",
              "  <tbody>\n",
              "    <tr>\n",
              "      <th>16508</th>\n",
              "      <td>90</td>\n",
              "      <td>9.100000</td>\n",
              "      <td>34.600000</td>\n",
              "      <td>40.000000</td>\n",
              "      <td>85.848236</td>\n",
              "    </tr>\n",
              "    <tr>\n",
              "      <th>16509</th>\n",
              "      <td>120</td>\n",
              "      <td>9.650000</td>\n",
              "      <td>33.666667</td>\n",
              "      <td>40.000000</td>\n",
              "      <td>110.771758</td>\n",
              "    </tr>\n",
              "    <tr>\n",
              "      <th>16510</th>\n",
              "      <td>390</td>\n",
              "      <td>10.200000</td>\n",
              "      <td>33.733333</td>\n",
              "      <td>40.000000</td>\n",
              "      <td>139.102237</td>\n",
              "    </tr>\n",
              "    <tr>\n",
              "      <th>16511</th>\n",
              "      <td>240</td>\n",
              "      <td>10.750000</td>\n",
              "      <td>34.072500</td>\n",
              "      <td>40.000000</td>\n",
              "      <td>370.240452</td>\n",
              "    </tr>\n",
              "    <tr>\n",
              "      <th>16512</th>\n",
              "      <td>120</td>\n",
              "      <td>11.300000</td>\n",
              "      <td>33.630000</td>\n",
              "      <td>40.000000</td>\n",
              "      <td>175.622891</td>\n",
              "    </tr>\n",
              "    <tr>\n",
              "      <th>...</th>\n",
              "      <td>...</td>\n",
              "      <td>...</td>\n",
              "      <td>...</td>\n",
              "      <td>...</td>\n",
              "      <td>...</td>\n",
              "    </tr>\n",
              "    <tr>\n",
              "      <th>19730</th>\n",
              "      <td>100</td>\n",
              "      <td>22.733333</td>\n",
              "      <td>46.560000</td>\n",
              "      <td>23.666667</td>\n",
              "      <td>107.499537</td>\n",
              "    </tr>\n",
              "    <tr>\n",
              "      <th>19731</th>\n",
              "      <td>90</td>\n",
              "      <td>22.600000</td>\n",
              "      <td>46.500000</td>\n",
              "      <td>24.500000</td>\n",
              "      <td>120.593714</td>\n",
              "    </tr>\n",
              "    <tr>\n",
              "      <th>19732</th>\n",
              "      <td>270</td>\n",
              "      <td>22.466667</td>\n",
              "      <td>46.596667</td>\n",
              "      <td>25.333333</td>\n",
              "      <td>107.211672</td>\n",
              "    </tr>\n",
              "    <tr>\n",
              "      <th>19733</th>\n",
              "      <td>420</td>\n",
              "      <td>22.333333</td>\n",
              "      <td>46.990000</td>\n",
              "      <td>26.166667</td>\n",
              "      <td>281.844455</td>\n",
              "    </tr>\n",
              "    <tr>\n",
              "      <th>19734</th>\n",
              "      <td>430</td>\n",
              "      <td>22.200000</td>\n",
              "      <td>46.600000</td>\n",
              "      <td>27.000000</td>\n",
              "      <td>296.482896</td>\n",
              "    </tr>\n",
              "  </tbody>\n",
              "</table>\n",
              "<p>3227 rows × 5 columns</p>\n",
              "</div>\n",
              "      <button class=\"colab-df-convert\" onclick=\"convertToInteractive('df-14fcd12a-5831-4b8f-a60d-d24bd656a66c')\"\n",
              "              title=\"Convert this dataframe to an interactive table.\"\n",
              "              style=\"display:none;\">\n",
              "        \n",
              "  <svg xmlns=\"http://www.w3.org/2000/svg\" height=\"24px\"viewBox=\"0 0 24 24\"\n",
              "       width=\"24px\">\n",
              "    <path d=\"M0 0h24v24H0V0z\" fill=\"none\"/>\n",
              "    <path d=\"M18.56 5.44l.94 2.06.94-2.06 2.06-.94-2.06-.94-.94-2.06-.94 2.06-2.06.94zm-11 1L8.5 8.5l.94-2.06 2.06-.94-2.06-.94L8.5 2.5l-.94 2.06-2.06.94zm10 10l.94 2.06.94-2.06 2.06-.94-2.06-.94-.94-2.06-.94 2.06-2.06.94z\"/><path d=\"M17.41 7.96l-1.37-1.37c-.4-.4-.92-.59-1.43-.59-.52 0-1.04.2-1.43.59L10.3 9.45l-7.72 7.72c-.78.78-.78 2.05 0 2.83L4 21.41c.39.39.9.59 1.41.59.51 0 1.02-.2 1.41-.59l7.78-7.78 2.81-2.81c.8-.78.8-2.07 0-2.86zM5.41 20L4 18.59l7.72-7.72 1.47 1.35L5.41 20z\"/>\n",
              "  </svg>\n",
              "      </button>\n",
              "      \n",
              "  <style>\n",
              "    .colab-df-container {\n",
              "      display:flex;\n",
              "      flex-wrap:wrap;\n",
              "      gap: 12px;\n",
              "    }\n",
              "\n",
              "    .colab-df-convert {\n",
              "      background-color: #E8F0FE;\n",
              "      border: none;\n",
              "      border-radius: 50%;\n",
              "      cursor: pointer;\n",
              "      display: none;\n",
              "      fill: #1967D2;\n",
              "      height: 32px;\n",
              "      padding: 0 0 0 0;\n",
              "      width: 32px;\n",
              "    }\n",
              "\n",
              "    .colab-df-convert:hover {\n",
              "      background-color: #E2EBFA;\n",
              "      box-shadow: 0px 1px 2px rgba(60, 64, 67, 0.3), 0px 1px 3px 1px rgba(60, 64, 67, 0.15);\n",
              "      fill: #174EA6;\n",
              "    }\n",
              "\n",
              "    [theme=dark] .colab-df-convert {\n",
              "      background-color: #3B4455;\n",
              "      fill: #D2E3FC;\n",
              "    }\n",
              "\n",
              "    [theme=dark] .colab-df-convert:hover {\n",
              "      background-color: #434B5C;\n",
              "      box-shadow: 0px 1px 3px 1px rgba(0, 0, 0, 0.15);\n",
              "      filter: drop-shadow(0px 1px 2px rgba(0, 0, 0, 0.3));\n",
              "      fill: #FFFFFF;\n",
              "    }\n",
              "  </style>\n",
              "\n",
              "      <script>\n",
              "        const buttonEl =\n",
              "          document.querySelector('#df-14fcd12a-5831-4b8f-a60d-d24bd656a66c button.colab-df-convert');\n",
              "        buttonEl.style.display =\n",
              "          google.colab.kernel.accessAllowed ? 'block' : 'none';\n",
              "\n",
              "        async function convertToInteractive(key) {\n",
              "          const element = document.querySelector('#df-14fcd12a-5831-4b8f-a60d-d24bd656a66c');\n",
              "          const dataTable =\n",
              "            await google.colab.kernel.invokeFunction('convertToInteractive',\n",
              "                                                     [key], {});\n",
              "          if (!dataTable) return;\n",
              "\n",
              "          const docLinkHtml = 'Like what you see? Visit the ' +\n",
              "            '<a target=\"_blank\" href=https://colab.research.google.com/notebooks/data_table.ipynb>data table notebook</a>'\n",
              "            + ' to learn more about interactive tables.';\n",
              "          element.innerHTML = '';\n",
              "          dataTable['output_type'] = 'display_data';\n",
              "          await google.colab.output.renderOutput(dataTable, element);\n",
              "          const docLink = document.createElement('div');\n",
              "          docLink.innerHTML = docLinkHtml;\n",
              "          element.appendChild(docLink);\n",
              "        }\n",
              "      </script>\n",
              "    </div>\n",
              "  </div>\n",
              "  "
            ]
          },
          "metadata": {},
          "execution_count": 37
        }
      ]
    },
    {
      "cell_type": "code",
      "metadata": {
        "id": "Ig7S76aZApyp",
        "outputId": "8154f903-00a7-4b35-f713-6dda73fdd117",
        "colab": {
          "base_uri": "https://localhost:8080/",
          "height": 501
        }
      },
      "source": [
        "df_final[['Appliances','App_Pred']].plot()"
      ],
      "execution_count": null,
      "outputs": [
        {
          "output_type": "execute_result",
          "data": {
            "text/plain": [
              "<matplotlib.axes._subplots.AxesSubplot at 0x7fc7d7d77350>"
            ]
          },
          "metadata": {},
          "execution_count": 38
        },
        {
          "output_type": "display_data",
          "data": {
            "text/plain": [
              "<Figure size 720x576 with 1 Axes>"
            ],
            "image/png": "[encoded data removed]"
          },
          "metadata": {
            "needs_background": "light"
          }
        }
      ]
    },
    {
      "cell_type": "code",
      "metadata": {
        "id": "grtp4xctGwDY",
        "colab": {
          "base_uri": "https://localhost:8080/"
        },
        "outputId": "7a424815-1f13-4589-fb34-ca72a74cd446"
      },
      "source": [
        "from sklearn.metrics import mean_squared_error\n",
        "from math import sqrt\n",
        "rmse_lstm=round(sqrt(mean_squared_error(df_final['App_Pred'],df_final['Appliances'])),2)\n",
        "print('Root Mean Squared Error for LSTM Model is:',rmse_lstm)"
      ],
      "execution_count": 2,
      "outputs": [
        {
          "output_type": "stream",
          "name": "stdout",
          "text": [
            "Root Mean Squared Error for LSTM Model is: 55.44\n"
          ]
        }
      ]
    },
    {
      "cell_type": "code",
      "source": [
        "from sklearn.metrics import r2_score\n",
        "r2_lstm = round(r2_score(df_final['Appliances'], df_final['App_Pred']),3)\n",
        "print('R Squared Score for LSTM Model is:',r2_lstm)"
      ],
      "metadata": {
        "colab": {
          "base_uri": "https://localhost:8080/"
        },
        "id": "yQcatHV6ntNb",
        "outputId": "e8ef5938-5ff3-4b23-9d1c-0f45b01ab671"
      },
      "execution_count": 4,
      "outputs": [
        {
          "output_type": "stream",
          "name": "stdout",
          "text": [
            "R Squared Score for LSTM Model is: 0.664\n"
          ]
        }
      ]
    },
    {
      "cell_type": "code",
      "source": [],
      "metadata": {
        "id": "N5jc7nsDrpE_"
      },
      "execution_count": null,
      "outputs": []
    }
  ]
}